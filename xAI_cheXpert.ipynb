{
  "nbformat": 4,
  "nbformat_minor": 0,
  "metadata": {
    "colab": {
      "provenance": [],
      "gpuType": "T4",
      "include_colab_link": true
    },
    "kernelspec": {
      "name": "python3",
      "display_name": "Python 3"
    },
    "language_info": {
      "name": "python"
    },
    "widgets": {
      "application/vnd.jupyter.widget-state+json": {
        "40408bed33a54485907e780c701bcde4": {
          "model_module": "@jupyter-widgets/controls",
          "model_name": "HBoxModel",
          "model_module_version": "1.5.0",
          "state": {
            "_dom_classes": [],
            "_model_module": "@jupyter-widgets/controls",
            "_model_module_version": "1.5.0",
            "_model_name": "HBoxModel",
            "_view_count": null,
            "_view_module": "@jupyter-widgets/controls",
            "_view_module_version": "1.5.0",
            "_view_name": "HBoxView",
            "box_style": "",
            "children": [
              "IPY_MODEL_4473e6f9ab084d8392166ad97e7ce2ba",
              "IPY_MODEL_17215accb2d047d18a91b31dab0e1e0d",
              "IPY_MODEL_78fce56377514ece9fd57320e311c81b"
            ],
            "layout": "IPY_MODEL_a77bb04917314b7ab76a562ffcad6307"
          }
        },
        "4473e6f9ab084d8392166ad97e7ce2ba": {
          "model_module": "@jupyter-widgets/controls",
          "model_name": "HTMLModel",
          "model_module_version": "1.5.0",
          "state": {
            "_dom_classes": [],
            "_model_module": "@jupyter-widgets/controls",
            "_model_module_version": "1.5.0",
            "_model_name": "HTMLModel",
            "_view_count": null,
            "_view_module": "@jupyter-widgets/controls",
            "_view_module_version": "1.5.0",
            "_view_name": "HTMLView",
            "description": "",
            "description_tooltip": null,
            "layout": "IPY_MODEL_19ca67265ead48239a84eecc59d80ebe",
            "placeholder": "​",
            "style": "IPY_MODEL_b98b452ed4944f279dcd8ba6e398860c",
            "value": "Downloading artifacts: 100%"
          }
        },
        "17215accb2d047d18a91b31dab0e1e0d": {
          "model_module": "@jupyter-widgets/controls",
          "model_name": "FloatProgressModel",
          "model_module_version": "1.5.0",
          "state": {
            "_dom_classes": [],
            "_model_module": "@jupyter-widgets/controls",
            "_model_module_version": "1.5.0",
            "_model_name": "FloatProgressModel",
            "_view_count": null,
            "_view_module": "@jupyter-widgets/controls",
            "_view_module_version": "1.5.0",
            "_view_name": "ProgressView",
            "bar_style": "success",
            "description": "",
            "description_tooltip": null,
            "layout": "IPY_MODEL_2f4f98d740ff48a49ce2146dddc7d039",
            "max": 6,
            "min": 0,
            "orientation": "horizontal",
            "style": "IPY_MODEL_b0eff5068a1f47f18bd88a0b02302732",
            "value": 6
          }
        },
        "78fce56377514ece9fd57320e311c81b": {
          "model_module": "@jupyter-widgets/controls",
          "model_name": "HTMLModel",
          "model_module_version": "1.5.0",
          "state": {
            "_dom_classes": [],
            "_model_module": "@jupyter-widgets/controls",
            "_model_module_version": "1.5.0",
            "_model_name": "HTMLModel",
            "_view_count": null,
            "_view_module": "@jupyter-widgets/controls",
            "_view_module_version": "1.5.0",
            "_view_name": "HTMLView",
            "description": "",
            "description_tooltip": null,
            "layout": "IPY_MODEL_4a5a1370fb2445999a746847c82d761b",
            "placeholder": "​",
            "style": "IPY_MODEL_b4672dac0473485fa888b0ebe1a3ea2b",
            "value": " 6/6 [00:02&lt;00:00,  2.15it/s]"
          }
        },
        "a77bb04917314b7ab76a562ffcad6307": {
          "model_module": "@jupyter-widgets/base",
          "model_name": "LayoutModel",
          "model_module_version": "1.2.0",
          "state": {
            "_model_module": "@jupyter-widgets/base",
            "_model_module_version": "1.2.0",
            "_model_name": "LayoutModel",
            "_view_count": null,
            "_view_module": "@jupyter-widgets/base",
            "_view_module_version": "1.2.0",
            "_view_name": "LayoutView",
            "align_content": null,
            "align_items": null,
            "align_self": null,
            "border": null,
            "bottom": null,
            "display": null,
            "flex": null,
            "flex_flow": null,
            "grid_area": null,
            "grid_auto_columns": null,
            "grid_auto_flow": null,
            "grid_auto_rows": null,
            "grid_column": null,
            "grid_gap": null,
            "grid_row": null,
            "grid_template_areas": null,
            "grid_template_columns": null,
            "grid_template_rows": null,
            "height": null,
            "justify_content": null,
            "justify_items": null,
            "left": null,
            "margin": null,
            "max_height": null,
            "max_width": null,
            "min_height": null,
            "min_width": null,
            "object_fit": null,
            "object_position": null,
            "order": null,
            "overflow": null,
            "overflow_x": null,
            "overflow_y": null,
            "padding": null,
            "right": null,
            "top": null,
            "visibility": null,
            "width": null
          }
        },
        "19ca67265ead48239a84eecc59d80ebe": {
          "model_module": "@jupyter-widgets/base",
          "model_name": "LayoutModel",
          "model_module_version": "1.2.0",
          "state": {
            "_model_module": "@jupyter-widgets/base",
            "_model_module_version": "1.2.0",
            "_model_name": "LayoutModel",
            "_view_count": null,
            "_view_module": "@jupyter-widgets/base",
            "_view_module_version": "1.2.0",
            "_view_name": "LayoutView",
            "align_content": null,
            "align_items": null,
            "align_self": null,
            "border": null,
            "bottom": null,
            "display": null,
            "flex": null,
            "flex_flow": null,
            "grid_area": null,
            "grid_auto_columns": null,
            "grid_auto_flow": null,
            "grid_auto_rows": null,
            "grid_column": null,
            "grid_gap": null,
            "grid_row": null,
            "grid_template_areas": null,
            "grid_template_columns": null,
            "grid_template_rows": null,
            "height": null,
            "justify_content": null,
            "justify_items": null,
            "left": null,
            "margin": null,
            "max_height": null,
            "max_width": null,
            "min_height": null,
            "min_width": null,
            "object_fit": null,
            "object_position": null,
            "order": null,
            "overflow": null,
            "overflow_x": null,
            "overflow_y": null,
            "padding": null,
            "right": null,
            "top": null,
            "visibility": null,
            "width": null
          }
        },
        "b98b452ed4944f279dcd8ba6e398860c": {
          "model_module": "@jupyter-widgets/controls",
          "model_name": "DescriptionStyleModel",
          "model_module_version": "1.5.0",
          "state": {
            "_model_module": "@jupyter-widgets/controls",
            "_model_module_version": "1.5.0",
            "_model_name": "DescriptionStyleModel",
            "_view_count": null,
            "_view_module": "@jupyter-widgets/base",
            "_view_module_version": "1.2.0",
            "_view_name": "StyleView",
            "description_width": ""
          }
        },
        "2f4f98d740ff48a49ce2146dddc7d039": {
          "model_module": "@jupyter-widgets/base",
          "model_name": "LayoutModel",
          "model_module_version": "1.2.0",
          "state": {
            "_model_module": "@jupyter-widgets/base",
            "_model_module_version": "1.2.0",
            "_model_name": "LayoutModel",
            "_view_count": null,
            "_view_module": "@jupyter-widgets/base",
            "_view_module_version": "1.2.0",
            "_view_name": "LayoutView",
            "align_content": null,
            "align_items": null,
            "align_self": null,
            "border": null,
            "bottom": null,
            "display": null,
            "flex": null,
            "flex_flow": null,
            "grid_area": null,
            "grid_auto_columns": null,
            "grid_auto_flow": null,
            "grid_auto_rows": null,
            "grid_column": null,
            "grid_gap": null,
            "grid_row": null,
            "grid_template_areas": null,
            "grid_template_columns": null,
            "grid_template_rows": null,
            "height": null,
            "justify_content": null,
            "justify_items": null,
            "left": null,
            "margin": null,
            "max_height": null,
            "max_width": null,
            "min_height": null,
            "min_width": null,
            "object_fit": null,
            "object_position": null,
            "order": null,
            "overflow": null,
            "overflow_x": null,
            "overflow_y": null,
            "padding": null,
            "right": null,
            "top": null,
            "visibility": null,
            "width": null
          }
        },
        "b0eff5068a1f47f18bd88a0b02302732": {
          "model_module": "@jupyter-widgets/controls",
          "model_name": "ProgressStyleModel",
          "model_module_version": "1.5.0",
          "state": {
            "_model_module": "@jupyter-widgets/controls",
            "_model_module_version": "1.5.0",
            "_model_name": "ProgressStyleModel",
            "_view_count": null,
            "_view_module": "@jupyter-widgets/base",
            "_view_module_version": "1.2.0",
            "_view_name": "StyleView",
            "bar_color": null,
            "description_width": ""
          }
        },
        "4a5a1370fb2445999a746847c82d761b": {
          "model_module": "@jupyter-widgets/base",
          "model_name": "LayoutModel",
          "model_module_version": "1.2.0",
          "state": {
            "_model_module": "@jupyter-widgets/base",
            "_model_module_version": "1.2.0",
            "_model_name": "LayoutModel",
            "_view_count": null,
            "_view_module": "@jupyter-widgets/base",
            "_view_module_version": "1.2.0",
            "_view_name": "LayoutView",
            "align_content": null,
            "align_items": null,
            "align_self": null,
            "border": null,
            "bottom": null,
            "display": null,
            "flex": null,
            "flex_flow": null,
            "grid_area": null,
            "grid_auto_columns": null,
            "grid_auto_flow": null,
            "grid_auto_rows": null,
            "grid_column": null,
            "grid_gap": null,
            "grid_row": null,
            "grid_template_areas": null,
            "grid_template_columns": null,
            "grid_template_rows": null,
            "height": null,
            "justify_content": null,
            "justify_items": null,
            "left": null,
            "margin": null,
            "max_height": null,
            "max_width": null,
            "min_height": null,
            "min_width": null,
            "object_fit": null,
            "object_position": null,
            "order": null,
            "overflow": null,
            "overflow_x": null,
            "overflow_y": null,
            "padding": null,
            "right": null,
            "top": null,
            "visibility": null,
            "width": null
          }
        },
        "b4672dac0473485fa888b0ebe1a3ea2b": {
          "model_module": "@jupyter-widgets/controls",
          "model_name": "DescriptionStyleModel",
          "model_module_version": "1.5.0",
          "state": {
            "_model_module": "@jupyter-widgets/controls",
            "_model_module_version": "1.5.0",
            "_model_name": "DescriptionStyleModel",
            "_view_count": null,
            "_view_module": "@jupyter-widgets/base",
            "_view_module_version": "1.2.0",
            "_view_name": "StyleView",
            "description_width": ""
          }
        }
      }
    },
    "accelerator": "GPU"
  },
  "cells": [
    {
      "cell_type": "markdown",
      "metadata": {
        "id": "view-in-github",
        "colab_type": "text"
      },
      "source": [
        "<a href=\"https://colab.research.google.com/github/alexocayanez/xAI-CheXpert-radiology/blob/main/xAI_cheXpert.ipynb\" target=\"_parent\"><img src=\"https://colab.research.google.com/assets/colab-badge.svg\" alt=\"Open In Colab\"/></a>"
      ]
    },
    {
      "cell_type": "code",
      "source": [
        "import math\n",
        "import os\n",
        "import random\n",
        "import time\n",
        "import typing\n",
        "\n",
        "from tqdm import tqdm\n",
        "import cv2; print(f\"OpenCV version: {cv2.__version__}\")\n",
        "import h5py\n",
        "import matplotlib.pyplot as plt\n",
        "import numpy as np; print(f\"Numpy version: {np.__version__}\")\n",
        "import pandas as pd; print(f\"Pandas version: {pd.__version__}\")\n",
        "from PIL import Image\n",
        "import seaborn as sns\n",
        "import sklearn.metrics\n",
        "import sklearn.model_selection\n",
        "import torch; print(f\"PyTorch version: {torch.__version__}\")\n",
        "import torch.nn as nn\n",
        "import torch.nn.functional as F\n",
        "import torchvision"
      ],
      "metadata": {
        "id": "EsV5aTBTymbK",
        "colab": {
          "base_uri": "https://localhost:8080/"
        },
        "outputId": "ffb77a83-5914-4e88-e952-3e65a5f0cb6d"
      },
      "execution_count": null,
      "outputs": [
        {
          "output_type": "stream",
          "name": "stdout",
          "text": [
            "OpenCV version: 4.11.0\n",
            "Numpy version: 1.26.4\n",
            "Pandas version: 2.2.2\n",
            "PyTorch version: 2.5.1+cu124\n"
          ]
        }
      ]
    },
    {
      "cell_type": "code",
      "source": [
        "!pip install mlflow dagshub optuna --quiet\n",
        "import mlflow\n",
        "import dagshub\n",
        "import optuna"
      ],
      "metadata": {
        "id": "-XNI8GnEuCIe"
      },
      "execution_count": null,
      "outputs": []
    },
    {
      "cell_type": "markdown",
      "source": [
        "# Data preparation"
      ],
      "metadata": {
        "id": "hfoKXna8wggp"
      }
    },
    {
      "cell_type": "markdown",
      "source": [
        "## Download CheXpert dataset\n",
        "\n",
        "There are two options, one for one time use and another for recurrent use using Google Drive. Execute just the necessary cells.\n",
        "\n",
        "Ctrl + M M to convert code cell to text\n",
        "\n",
        "Ctrl + M Y to convert text cell to code"
      ],
      "metadata": {
        "id": "oyBAQhupup8v"
      }
    },
    {
      "cell_type": "markdown",
      "source": [
        "### Option 1: Download directly to Colab session storage\n",
        "They data will be deleted every time the session is restored. It takes around 5 minutes to download and unzip the dataset.\n"
      ],
      "metadata": {
        "id": "rr2ThLpCx-KQ"
      }
    },
    {
      "cell_type": "markdown",
      "source": [
        "1. Retrieve a Kaggle API key formatted as as kaggle.json file.\n",
        "2. Upload it into the content folder (the default one in Files) in the Colab session storage.\n",
        "3. Execute the following code block."
      ],
      "metadata": {
        "id": "lMt-QrtmYfMs"
      }
    },
    {
      "cell_type": "markdown",
      "source": [
        "!mkdir -p ~/.kaggle\n",
        "!mv kaggle.json ~/.kaggle/\n",
        "!chmod 600 ~/.kaggle/kaggle.json # Move API key and set permissions\n",
        "\n",
        "!kaggle datasets download ashery/chexpert -p /content # Download zip dataset from kaggle\n",
        "dataset_zip = \"/content/chexpert.zip\"\n",
        "\n",
        "!mkdir -p /content/chexpert/CheXpert-v1.0-small\n",
        "!unzip -q {dataset_zip} -d /content/chexpert/CheXpert-v1.0-small  # Unzip the dataset in appropiate directory\n",
        "\n",
        "os.remove(dataset_zip) # Remove ZIP file to save space\n",
        "\n",
        "CHEXPERT_PATH = \"/content/chexpert\" # Base path of the dataset"
      ],
      "metadata": {
        "id": "Ii7zGA9avwYJ"
      }
    },
    {
      "cell_type": "markdown",
      "source": [
        "### Option 2: Access using Google Drive\n"
      ],
      "metadata": {
        "id": "cV0yAGTrNha5"
      }
    },
    {
      "cell_type": "code",
      "source": [
        "from google.colab import drive\n",
        "drive.mount('/content/drive', force_remount=False)\n",
        "\n",
        "CHEXPERT_PATH = '/content/drive/MyDrive/chexpert'\n",
        "print(\"Content of selected directory:\")\n",
        "!ls {CHEXPERT_PATH}\n",
        "\n",
        "print(\"Content of CheXpert-v1.0-small inside selected directory:\")\n",
        "!ls {CHEXPERT_PATH}/CheXpert-v1.0-small\n"
      ],
      "metadata": {
        "colab": {
          "base_uri": "https://localhost:8080/"
        },
        "id": "J256CllpNpE4",
        "outputId": "85f5c055-4559-4c16-8f14-f1cab4fd44a8"
      },
      "execution_count": null,
      "outputs": [
        {
          "output_type": "stream",
          "name": "stdout",
          "text": [
            "Drive already mounted at /content/drive; to attempt to forcibly remount, call drive.mount(\"/content/drive\", force_remount=True).\n",
            "Content of selected directory:\n",
            "'bounding-box annotations'   CheXpert-v1.0-small   optuna  'ranking annotations'\n",
            "Content of CheXpert-v1.0-small inside selected directory:\n",
            "train  train.csv  train.hdf5  valid  valid.csv\tvalid.hdf5\n"
          ]
        }
      ]
    },
    {
      "cell_type": "markdown",
      "source": [
        "Inside the selected directory in Drive, you should have a folder called CheXpert-v1.0-small containing the Kaggle dataset."
      ],
      "metadata": {
        "id": "5vOok2wgR51R"
      }
    },
    {
      "cell_type": "markdown",
      "source": [
        "#### Download the dataset directly to Google Drive\n",
        "\n",
        "It is possible to download the dataset to Drive directly to the selected CHEXPERT_PATH directory in your drive."
      ],
      "metadata": {
        "id": "CHuR9wXujCzY"
      }
    },
    {
      "cell_type": "markdown",
      "source": [
        "1. Get the Kaggle API key\n",
        "2. Upload the key into Colab files"
      ],
      "metadata": {
        "id": "Lz_CE6ZQvg9A"
      }
    },
    {
      "cell_type": "markdown",
      "source": [
        "from google.colab import files\n",
        "files.upload()"
      ],
      "metadata": {
        "id": "-C0tRk43ZElt"
      }
    },
    {
      "cell_type": "markdown",
      "source": [
        "3. Download the dataset in the Google Drive mount. Takes around 1h."
      ],
      "metadata": {
        "id": "CNURAwlGvt5B"
      }
    },
    {
      "cell_type": "markdown",
      "source": [
        "!mkdir -p ~/.kaggle\n",
        "!cp kaggle.json ~/.kaggle/\n",
        "!chmod 600 ~/.kaggle/kaggle.json\n",
        "\n",
        "!mkdir -p {CHEXPERT_PATH}\n",
        "!kaggle datasets download ashery/chexpert -p {CHEXPERT_PATH}\n",
        "\n",
        "!unzip {CHEXPERT_PATH}/chexpert.zip -d {CHEXPERT_PATH}/CheXpert-v1.0-small\n",
        "!rm {CHEXPERT_PATH}/chexpert.zip"
      ],
      "metadata": {
        "id": "ZWXPZEPvZVbK"
      }
    },
    {
      "cell_type": "markdown",
      "source": [
        "## Dataset exploration"
      ],
      "metadata": {
        "id": "gyGOXRocv5N6"
      }
    },
    {
      "cell_type": "markdown",
      "source": [
        "Read the pandas dataframes and filter them only with frontal images."
      ],
      "metadata": {
        "id": "iBfLTop8ac5M"
      }
    },
    {
      "cell_type": "code",
      "source": [
        "train_path = CHEXPERT_PATH + \"/CheXpert-v1.0-small/train.csv\"\n",
        "train_df = pd.read_csv(train_path)\n",
        "train_df = train_df[train_df['Frontal/Lateral'] == 'Frontal']\n",
        "train_df[\"Patient number\"] = train_df[\"Path\"].str.extract(r\"patient(\\d+)\")\n",
        "\n",
        "test_path = CHEXPERT_PATH + \"/CheXpert-v1.0-small/valid.csv\"\n",
        "test_df = pd.read_csv(test_path)\n",
        "test_df = test_df[test_df['Frontal/Lateral'] == 'Frontal']\n",
        "test_df[\"Patient number\"] = test_df[\"Path\"].str.extract(r\"patient(\\d+)\")"
      ],
      "metadata": {
        "id": "dp2vyGb_x248"
      },
      "execution_count": null,
      "outputs": []
    },
    {
      "cell_type": "code",
      "source": [
        "test_df[test_df[\"Pleural Effusion\"]==1]"
      ],
      "metadata": {
        "id": "22eK0F-K8MRJ",
        "colab": {
          "base_uri": "https://localhost:8080/",
          "height": 634
        },
        "outputId": "ae9c8a22-c63c-4728-cac8-66acc7020e6a"
      },
      "execution_count": null,
      "outputs": [
        {
          "output_type": "execute_result",
          "data": {
            "text/plain": [
              "                                                  Path     Sex  Age  \\\n",
              "5    CheXpert-v1.0-small/valid/patient64545/study1/...  Female   55   \n",
              "10   CheXpert-v1.0-small/valid/patient64548/study1/...  Female   53   \n",
              "15   CheXpert-v1.0-small/valid/patient64552/study1/...  Female   84   \n",
              "41   CheXpert-v1.0-small/valid/patient64571/study1/...    Male   61   \n",
              "48   CheXpert-v1.0-small/valid/patient64577/study1/...  Female   72   \n",
              "..                                                 ...     ...  ...   \n",
              "211  CheXpert-v1.0-small/valid/patient64718/study1/...    Male   83   \n",
              "213  CheXpert-v1.0-small/valid/patient64720/study1/...  Female   77   \n",
              "215  CheXpert-v1.0-small/valid/patient64722/study1/...  Female   81   \n",
              "218  CheXpert-v1.0-small/valid/patient64725/study1/...    Male   75   \n",
              "233  CheXpert-v1.0-small/valid/patient64740/study1/...    Male   90   \n",
              "\n",
              "    Frontal/Lateral AP/PA  No Finding  Enlarged Cardiomediastinum  \\\n",
              "5           Frontal    AP         0.0                         1.0   \n",
              "10          Frontal    AP         0.0                         1.0   \n",
              "15          Frontal    AP         0.0                         1.0   \n",
              "41          Frontal    AP         0.0                         0.0   \n",
              "48          Frontal    PA         0.0                         0.0   \n",
              "..              ...   ...         ...                         ...   \n",
              "211         Frontal    AP         0.0                         1.0   \n",
              "213         Frontal    AP         0.0                         0.0   \n",
              "215         Frontal    AP         0.0                         1.0   \n",
              "218         Frontal    AP         0.0                         0.0   \n",
              "233         Frontal    AP         0.0                         1.0   \n",
              "\n",
              "     Cardiomegaly  Lung Opacity  Lung Lesion  Edema  Consolidation  Pneumonia  \\\n",
              "5             0.0           1.0          0.0    0.0            0.0        0.0   \n",
              "10            1.0           1.0          0.0    0.0            1.0        1.0   \n",
              "15            1.0           1.0          0.0    1.0            1.0        1.0   \n",
              "41            0.0           1.0          0.0    0.0            0.0        0.0   \n",
              "48            0.0           0.0          0.0    0.0            0.0        0.0   \n",
              "..            ...           ...          ...    ...            ...        ...   \n",
              "211           0.0           1.0          0.0    0.0            0.0        0.0   \n",
              "213           0.0           0.0          0.0    0.0            0.0        0.0   \n",
              "215           1.0           1.0          0.0    0.0            1.0        0.0   \n",
              "218           0.0           1.0          0.0    0.0            0.0        0.0   \n",
              "233           0.0           1.0          0.0    0.0            0.0        0.0   \n",
              "\n",
              "     Atelectasis  Pneumothorax  Pleural Effusion  Pleural Other  Fracture  \\\n",
              "5            1.0           0.0               1.0            0.0       0.0   \n",
              "10           1.0           0.0               1.0            0.0       0.0   \n",
              "15           1.0           0.0               1.0            0.0       0.0   \n",
              "41           1.0           0.0               1.0            0.0       0.0   \n",
              "48           0.0           0.0               1.0            0.0       0.0   \n",
              "..           ...           ...               ...            ...       ...   \n",
              "211          0.0           0.0               1.0            0.0       0.0   \n",
              "213          0.0           0.0               1.0            0.0       0.0   \n",
              "215          1.0           0.0               1.0            0.0       0.0   \n",
              "218          1.0           0.0               1.0            0.0       0.0   \n",
              "233          1.0           0.0               1.0            0.0       0.0   \n",
              "\n",
              "     Support Devices Patient number  \n",
              "5                0.0          64545  \n",
              "10               0.0          64548  \n",
              "15               0.0          64552  \n",
              "41               1.0          64571  \n",
              "48               0.0          64577  \n",
              "..               ...            ...  \n",
              "211              0.0          64718  \n",
              "213              1.0          64720  \n",
              "215              1.0          64722  \n",
              "218              1.0          64725  \n",
              "233              0.0          64740  \n",
              "\n",
              "[64 rows x 20 columns]"
            ],
            "text/html": [
              "\n",
              "  <div id=\"df-31aafe15-ca50-4301-8c58-6f2a76632dd3\" class=\"colab-df-container\">\n",
              "    <div>\n",
              "<style scoped>\n",
              "    .dataframe tbody tr th:only-of-type {\n",
              "        vertical-align: middle;\n",
              "    }\n",
              "\n",
              "    .dataframe tbody tr th {\n",
              "        vertical-align: top;\n",
              "    }\n",
              "\n",
              "    .dataframe thead th {\n",
              "        text-align: right;\n",
              "    }\n",
              "</style>\n",
              "<table border=\"1\" class=\"dataframe\">\n",
              "  <thead>\n",
              "    <tr style=\"text-align: right;\">\n",
              "      <th></th>\n",
              "      <th>Path</th>\n",
              "      <th>Sex</th>\n",
              "      <th>Age</th>\n",
              "      <th>Frontal/Lateral</th>\n",
              "      <th>AP/PA</th>\n",
              "      <th>No Finding</th>\n",
              "      <th>Enlarged Cardiomediastinum</th>\n",
              "      <th>Cardiomegaly</th>\n",
              "      <th>Lung Opacity</th>\n",
              "      <th>Lung Lesion</th>\n",
              "      <th>Edema</th>\n",
              "      <th>Consolidation</th>\n",
              "      <th>Pneumonia</th>\n",
              "      <th>Atelectasis</th>\n",
              "      <th>Pneumothorax</th>\n",
              "      <th>Pleural Effusion</th>\n",
              "      <th>Pleural Other</th>\n",
              "      <th>Fracture</th>\n",
              "      <th>Support Devices</th>\n",
              "      <th>Patient number</th>\n",
              "    </tr>\n",
              "  </thead>\n",
              "  <tbody>\n",
              "    <tr>\n",
              "      <th>5</th>\n",
              "      <td>CheXpert-v1.0-small/valid/patient64545/study1/...</td>\n",
              "      <td>Female</td>\n",
              "      <td>55</td>\n",
              "      <td>Frontal</td>\n",
              "      <td>AP</td>\n",
              "      <td>0.0</td>\n",
              "      <td>1.0</td>\n",
              "      <td>0.0</td>\n",
              "      <td>1.0</td>\n",
              "      <td>0.0</td>\n",
              "      <td>0.0</td>\n",
              "      <td>0.0</td>\n",
              "      <td>0.0</td>\n",
              "      <td>1.0</td>\n",
              "      <td>0.0</td>\n",
              "      <td>1.0</td>\n",
              "      <td>0.0</td>\n",
              "      <td>0.0</td>\n",
              "      <td>0.0</td>\n",
              "      <td>64545</td>\n",
              "    </tr>\n",
              "    <tr>\n",
              "      <th>10</th>\n",
              "      <td>CheXpert-v1.0-small/valid/patient64548/study1/...</td>\n",
              "      <td>Female</td>\n",
              "      <td>53</td>\n",
              "      <td>Frontal</td>\n",
              "      <td>AP</td>\n",
              "      <td>0.0</td>\n",
              "      <td>1.0</td>\n",
              "      <td>1.0</td>\n",
              "      <td>1.0</td>\n",
              "      <td>0.0</td>\n",
              "      <td>0.0</td>\n",
              "      <td>1.0</td>\n",
              "      <td>1.0</td>\n",
              "      <td>1.0</td>\n",
              "      <td>0.0</td>\n",
              "      <td>1.0</td>\n",
              "      <td>0.0</td>\n",
              "      <td>0.0</td>\n",
              "      <td>0.0</td>\n",
              "      <td>64548</td>\n",
              "    </tr>\n",
              "    <tr>\n",
              "      <th>15</th>\n",
              "      <td>CheXpert-v1.0-small/valid/patient64552/study1/...</td>\n",
              "      <td>Female</td>\n",
              "      <td>84</td>\n",
              "      <td>Frontal</td>\n",
              "      <td>AP</td>\n",
              "      <td>0.0</td>\n",
              "      <td>1.0</td>\n",
              "      <td>1.0</td>\n",
              "      <td>1.0</td>\n",
              "      <td>0.0</td>\n",
              "      <td>1.0</td>\n",
              "      <td>1.0</td>\n",
              "      <td>1.0</td>\n",
              "      <td>1.0</td>\n",
              "      <td>0.0</td>\n",
              "      <td>1.0</td>\n",
              "      <td>0.0</td>\n",
              "      <td>0.0</td>\n",
              "      <td>0.0</td>\n",
              "      <td>64552</td>\n",
              "    </tr>\n",
              "    <tr>\n",
              "      <th>41</th>\n",
              "      <td>CheXpert-v1.0-small/valid/patient64571/study1/...</td>\n",
              "      <td>Male</td>\n",
              "      <td>61</td>\n",
              "      <td>Frontal</td>\n",
              "      <td>AP</td>\n",
              "      <td>0.0</td>\n",
              "      <td>0.0</td>\n",
              "      <td>0.0</td>\n",
              "      <td>1.0</td>\n",
              "      <td>0.0</td>\n",
              "      <td>0.0</td>\n",
              "      <td>0.0</td>\n",
              "      <td>0.0</td>\n",
              "      <td>1.0</td>\n",
              "      <td>0.0</td>\n",
              "      <td>1.0</td>\n",
              "      <td>0.0</td>\n",
              "      <td>0.0</td>\n",
              "      <td>1.0</td>\n",
              "      <td>64571</td>\n",
              "    </tr>\n",
              "    <tr>\n",
              "      <th>48</th>\n",
              "      <td>CheXpert-v1.0-small/valid/patient64577/study1/...</td>\n",
              "      <td>Female</td>\n",
              "      <td>72</td>\n",
              "      <td>Frontal</td>\n",
              "      <td>PA</td>\n",
              "      <td>0.0</td>\n",
              "      <td>0.0</td>\n",
              "      <td>0.0</td>\n",
              "      <td>0.0</td>\n",
              "      <td>0.0</td>\n",
              "      <td>0.0</td>\n",
              "      <td>0.0</td>\n",
              "      <td>0.0</td>\n",
              "      <td>0.0</td>\n",
              "      <td>0.0</td>\n",
              "      <td>1.0</td>\n",
              "      <td>0.0</td>\n",
              "      <td>0.0</td>\n",
              "      <td>0.0</td>\n",
              "      <td>64577</td>\n",
              "    </tr>\n",
              "    <tr>\n",
              "      <th>...</th>\n",
              "      <td>...</td>\n",
              "      <td>...</td>\n",
              "      <td>...</td>\n",
              "      <td>...</td>\n",
              "      <td>...</td>\n",
              "      <td>...</td>\n",
              "      <td>...</td>\n",
              "      <td>...</td>\n",
              "      <td>...</td>\n",
              "      <td>...</td>\n",
              "      <td>...</td>\n",
              "      <td>...</td>\n",
              "      <td>...</td>\n",
              "      <td>...</td>\n",
              "      <td>...</td>\n",
              "      <td>...</td>\n",
              "      <td>...</td>\n",
              "      <td>...</td>\n",
              "      <td>...</td>\n",
              "      <td>...</td>\n",
              "    </tr>\n",
              "    <tr>\n",
              "      <th>211</th>\n",
              "      <td>CheXpert-v1.0-small/valid/patient64718/study1/...</td>\n",
              "      <td>Male</td>\n",
              "      <td>83</td>\n",
              "      <td>Frontal</td>\n",
              "      <td>AP</td>\n",
              "      <td>0.0</td>\n",
              "      <td>1.0</td>\n",
              "      <td>0.0</td>\n",
              "      <td>1.0</td>\n",
              "      <td>0.0</td>\n",
              "      <td>0.0</td>\n",
              "      <td>0.0</td>\n",
              "      <td>0.0</td>\n",
              "      <td>0.0</td>\n",
              "      <td>0.0</td>\n",
              "      <td>1.0</td>\n",
              "      <td>0.0</td>\n",
              "      <td>0.0</td>\n",
              "      <td>0.0</td>\n",
              "      <td>64718</td>\n",
              "    </tr>\n",
              "    <tr>\n",
              "      <th>213</th>\n",
              "      <td>CheXpert-v1.0-small/valid/patient64720/study1/...</td>\n",
              "      <td>Female</td>\n",
              "      <td>77</td>\n",
              "      <td>Frontal</td>\n",
              "      <td>AP</td>\n",
              "      <td>0.0</td>\n",
              "      <td>0.0</td>\n",
              "      <td>0.0</td>\n",
              "      <td>0.0</td>\n",
              "      <td>0.0</td>\n",
              "      <td>0.0</td>\n",
              "      <td>0.0</td>\n",
              "      <td>0.0</td>\n",
              "      <td>0.0</td>\n",
              "      <td>0.0</td>\n",
              "      <td>1.0</td>\n",
              "      <td>0.0</td>\n",
              "      <td>0.0</td>\n",
              "      <td>1.0</td>\n",
              "      <td>64720</td>\n",
              "    </tr>\n",
              "    <tr>\n",
              "      <th>215</th>\n",
              "      <td>CheXpert-v1.0-small/valid/patient64722/study1/...</td>\n",
              "      <td>Female</td>\n",
              "      <td>81</td>\n",
              "      <td>Frontal</td>\n",
              "      <td>AP</td>\n",
              "      <td>0.0</td>\n",
              "      <td>1.0</td>\n",
              "      <td>1.0</td>\n",
              "      <td>1.0</td>\n",
              "      <td>0.0</td>\n",
              "      <td>0.0</td>\n",
              "      <td>1.0</td>\n",
              "      <td>0.0</td>\n",
              "      <td>1.0</td>\n",
              "      <td>0.0</td>\n",
              "      <td>1.0</td>\n",
              "      <td>0.0</td>\n",
              "      <td>0.0</td>\n",
              "      <td>1.0</td>\n",
              "      <td>64722</td>\n",
              "    </tr>\n",
              "    <tr>\n",
              "      <th>218</th>\n",
              "      <td>CheXpert-v1.0-small/valid/patient64725/study1/...</td>\n",
              "      <td>Male</td>\n",
              "      <td>75</td>\n",
              "      <td>Frontal</td>\n",
              "      <td>AP</td>\n",
              "      <td>0.0</td>\n",
              "      <td>0.0</td>\n",
              "      <td>0.0</td>\n",
              "      <td>1.0</td>\n",
              "      <td>0.0</td>\n",
              "      <td>0.0</td>\n",
              "      <td>0.0</td>\n",
              "      <td>0.0</td>\n",
              "      <td>1.0</td>\n",
              "      <td>0.0</td>\n",
              "      <td>1.0</td>\n",
              "      <td>0.0</td>\n",
              "      <td>0.0</td>\n",
              "      <td>1.0</td>\n",
              "      <td>64725</td>\n",
              "    </tr>\n",
              "    <tr>\n",
              "      <th>233</th>\n",
              "      <td>CheXpert-v1.0-small/valid/patient64740/study1/...</td>\n",
              "      <td>Male</td>\n",
              "      <td>90</td>\n",
              "      <td>Frontal</td>\n",
              "      <td>AP</td>\n",
              "      <td>0.0</td>\n",
              "      <td>1.0</td>\n",
              "      <td>0.0</td>\n",
              "      <td>1.0</td>\n",
              "      <td>0.0</td>\n",
              "      <td>0.0</td>\n",
              "      <td>0.0</td>\n",
              "      <td>0.0</td>\n",
              "      <td>1.0</td>\n",
              "      <td>0.0</td>\n",
              "      <td>1.0</td>\n",
              "      <td>0.0</td>\n",
              "      <td>0.0</td>\n",
              "      <td>0.0</td>\n",
              "      <td>64740</td>\n",
              "    </tr>\n",
              "  </tbody>\n",
              "</table>\n",
              "<p>64 rows × 20 columns</p>\n",
              "</div>\n",
              "    <div class=\"colab-df-buttons\">\n",
              "\n",
              "  <div class=\"colab-df-container\">\n",
              "    <button class=\"colab-df-convert\" onclick=\"convertToInteractive('df-31aafe15-ca50-4301-8c58-6f2a76632dd3')\"\n",
              "            title=\"Convert this dataframe to an interactive table.\"\n",
              "            style=\"display:none;\">\n",
              "\n",
              "  <svg xmlns=\"http://www.w3.org/2000/svg\" height=\"24px\" viewBox=\"0 -960 960 960\">\n",
              "    <path d=\"M120-120v-720h720v720H120Zm60-500h600v-160H180v160Zm220 220h160v-160H400v160Zm0 220h160v-160H400v160ZM180-400h160v-160H180v160Zm440 0h160v-160H620v160ZM180-180h160v-160H180v160Zm440 0h160v-160H620v160Z\"/>\n",
              "  </svg>\n",
              "    </button>\n",
              "\n",
              "  <style>\n",
              "    .colab-df-container {\n",
              "      display:flex;\n",
              "      gap: 12px;\n",
              "    }\n",
              "\n",
              "    .colab-df-convert {\n",
              "      background-color: #E8F0FE;\n",
              "      border: none;\n",
              "      border-radius: 50%;\n",
              "      cursor: pointer;\n",
              "      display: none;\n",
              "      fill: #1967D2;\n",
              "      height: 32px;\n",
              "      padding: 0 0 0 0;\n",
              "      width: 32px;\n",
              "    }\n",
              "\n",
              "    .colab-df-convert:hover {\n",
              "      background-color: #E2EBFA;\n",
              "      box-shadow: 0px 1px 2px rgba(60, 64, 67, 0.3), 0px 1px 3px 1px rgba(60, 64, 67, 0.15);\n",
              "      fill: #174EA6;\n",
              "    }\n",
              "\n",
              "    .colab-df-buttons div {\n",
              "      margin-bottom: 4px;\n",
              "    }\n",
              "\n",
              "    [theme=dark] .colab-df-convert {\n",
              "      background-color: #3B4455;\n",
              "      fill: #D2E3FC;\n",
              "    }\n",
              "\n",
              "    [theme=dark] .colab-df-convert:hover {\n",
              "      background-color: #434B5C;\n",
              "      box-shadow: 0px 1px 3px 1px rgba(0, 0, 0, 0.15);\n",
              "      filter: drop-shadow(0px 1px 2px rgba(0, 0, 0, 0.3));\n",
              "      fill: #FFFFFF;\n",
              "    }\n",
              "  </style>\n",
              "\n",
              "    <script>\n",
              "      const buttonEl =\n",
              "        document.querySelector('#df-31aafe15-ca50-4301-8c58-6f2a76632dd3 button.colab-df-convert');\n",
              "      buttonEl.style.display =\n",
              "        google.colab.kernel.accessAllowed ? 'block' : 'none';\n",
              "\n",
              "      async function convertToInteractive(key) {\n",
              "        const element = document.querySelector('#df-31aafe15-ca50-4301-8c58-6f2a76632dd3');\n",
              "        const dataTable =\n",
              "          await google.colab.kernel.invokeFunction('convertToInteractive',\n",
              "                                                    [key], {});\n",
              "        if (!dataTable) return;\n",
              "\n",
              "        const docLinkHtml = 'Like what you see? Visit the ' +\n",
              "          '<a target=\"_blank\" href=https://colab.research.google.com/notebooks/data_table.ipynb>data table notebook</a>'\n",
              "          + ' to learn more about interactive tables.';\n",
              "        element.innerHTML = '';\n",
              "        dataTable['output_type'] = 'display_data';\n",
              "        await google.colab.output.renderOutput(dataTable, element);\n",
              "        const docLink = document.createElement('div');\n",
              "        docLink.innerHTML = docLinkHtml;\n",
              "        element.appendChild(docLink);\n",
              "      }\n",
              "    </script>\n",
              "  </div>\n",
              "\n",
              "\n",
              "<div id=\"df-aa933ffd-2870-4edc-a500-8db62df356be\">\n",
              "  <button class=\"colab-df-quickchart\" onclick=\"quickchart('df-aa933ffd-2870-4edc-a500-8db62df356be')\"\n",
              "            title=\"Suggest charts\"\n",
              "            style=\"display:none;\">\n",
              "\n",
              "<svg xmlns=\"http://www.w3.org/2000/svg\" height=\"24px\"viewBox=\"0 0 24 24\"\n",
              "     width=\"24px\">\n",
              "    <g>\n",
              "        <path d=\"M19 3H5c-1.1 0-2 .9-2 2v14c0 1.1.9 2 2 2h14c1.1 0 2-.9 2-2V5c0-1.1-.9-2-2-2zM9 17H7v-7h2v7zm4 0h-2V7h2v10zm4 0h-2v-4h2v4z\"/>\n",
              "    </g>\n",
              "</svg>\n",
              "  </button>\n",
              "\n",
              "<style>\n",
              "  .colab-df-quickchart {\n",
              "      --bg-color: #E8F0FE;\n",
              "      --fill-color: #1967D2;\n",
              "      --hover-bg-color: #E2EBFA;\n",
              "      --hover-fill-color: #174EA6;\n",
              "      --disabled-fill-color: #AAA;\n",
              "      --disabled-bg-color: #DDD;\n",
              "  }\n",
              "\n",
              "  [theme=dark] .colab-df-quickchart {\n",
              "      --bg-color: #3B4455;\n",
              "      --fill-color: #D2E3FC;\n",
              "      --hover-bg-color: #434B5C;\n",
              "      --hover-fill-color: #FFFFFF;\n",
              "      --disabled-bg-color: #3B4455;\n",
              "      --disabled-fill-color: #666;\n",
              "  }\n",
              "\n",
              "  .colab-df-quickchart {\n",
              "    background-color: var(--bg-color);\n",
              "    border: none;\n",
              "    border-radius: 50%;\n",
              "    cursor: pointer;\n",
              "    display: none;\n",
              "    fill: var(--fill-color);\n",
              "    height: 32px;\n",
              "    padding: 0;\n",
              "    width: 32px;\n",
              "  }\n",
              "\n",
              "  .colab-df-quickchart:hover {\n",
              "    background-color: var(--hover-bg-color);\n",
              "    box-shadow: 0 1px 2px rgba(60, 64, 67, 0.3), 0 1px 3px 1px rgba(60, 64, 67, 0.15);\n",
              "    fill: var(--button-hover-fill-color);\n",
              "  }\n",
              "\n",
              "  .colab-df-quickchart-complete:disabled,\n",
              "  .colab-df-quickchart-complete:disabled:hover {\n",
              "    background-color: var(--disabled-bg-color);\n",
              "    fill: var(--disabled-fill-color);\n",
              "    box-shadow: none;\n",
              "  }\n",
              "\n",
              "  .colab-df-spinner {\n",
              "    border: 2px solid var(--fill-color);\n",
              "    border-color: transparent;\n",
              "    border-bottom-color: var(--fill-color);\n",
              "    animation:\n",
              "      spin 1s steps(1) infinite;\n",
              "  }\n",
              "\n",
              "  @keyframes spin {\n",
              "    0% {\n",
              "      border-color: transparent;\n",
              "      border-bottom-color: var(--fill-color);\n",
              "      border-left-color: var(--fill-color);\n",
              "    }\n",
              "    20% {\n",
              "      border-color: transparent;\n",
              "      border-left-color: var(--fill-color);\n",
              "      border-top-color: var(--fill-color);\n",
              "    }\n",
              "    30% {\n",
              "      border-color: transparent;\n",
              "      border-left-color: var(--fill-color);\n",
              "      border-top-color: var(--fill-color);\n",
              "      border-right-color: var(--fill-color);\n",
              "    }\n",
              "    40% {\n",
              "      border-color: transparent;\n",
              "      border-right-color: var(--fill-color);\n",
              "      border-top-color: var(--fill-color);\n",
              "    }\n",
              "    60% {\n",
              "      border-color: transparent;\n",
              "      border-right-color: var(--fill-color);\n",
              "    }\n",
              "    80% {\n",
              "      border-color: transparent;\n",
              "      border-right-color: var(--fill-color);\n",
              "      border-bottom-color: var(--fill-color);\n",
              "    }\n",
              "    90% {\n",
              "      border-color: transparent;\n",
              "      border-bottom-color: var(--fill-color);\n",
              "    }\n",
              "  }\n",
              "</style>\n",
              "\n",
              "  <script>\n",
              "    async function quickchart(key) {\n",
              "      const quickchartButtonEl =\n",
              "        document.querySelector('#' + key + ' button');\n",
              "      quickchartButtonEl.disabled = true;  // To prevent multiple clicks.\n",
              "      quickchartButtonEl.classList.add('colab-df-spinner');\n",
              "      try {\n",
              "        const charts = await google.colab.kernel.invokeFunction(\n",
              "            'suggestCharts', [key], {});\n",
              "      } catch (error) {\n",
              "        console.error('Error during call to suggestCharts:', error);\n",
              "      }\n",
              "      quickchartButtonEl.classList.remove('colab-df-spinner');\n",
              "      quickchartButtonEl.classList.add('colab-df-quickchart-complete');\n",
              "    }\n",
              "    (() => {\n",
              "      let quickchartButtonEl =\n",
              "        document.querySelector('#df-aa933ffd-2870-4edc-a500-8db62df356be button');\n",
              "      quickchartButtonEl.style.display =\n",
              "        google.colab.kernel.accessAllowed ? 'block' : 'none';\n",
              "    })();\n",
              "  </script>\n",
              "</div>\n",
              "\n",
              "    </div>\n",
              "  </div>\n"
            ],
            "application/vnd.google.colaboratory.intrinsic+json": {
              "type": "dataframe",
              "summary": "{\n  \"name\": \"test_df[test_df[\\\"Pleural Effusion\\\"]==1]\",\n  \"rows\": 64,\n  \"fields\": [\n    {\n      \"column\": \"Path\",\n      \"properties\": {\n        \"dtype\": \"string\",\n        \"num_unique_values\": 64,\n        \"samples\": [\n          \"CheXpert-v1.0-small/valid/patient64692/study1/view1_frontal.jpg\",\n          \"CheXpert-v1.0-small/valid/patient64715/study1/view1_frontal.jpg\",\n          \"CheXpert-v1.0-small/valid/patient64545/study1/view1_frontal.jpg\"\n        ],\n        \"semantic_type\": \"\",\n        \"description\": \"\"\n      }\n    },\n    {\n      \"column\": \"Sex\",\n      \"properties\": {\n        \"dtype\": \"category\",\n        \"num_unique_values\": 2,\n        \"samples\": [\n          \"Male\",\n          \"Female\"\n        ],\n        \"semantic_type\": \"\",\n        \"description\": \"\"\n      }\n    },\n    {\n      \"column\": \"Age\",\n      \"properties\": {\n        \"dtype\": \"number\",\n        \"std\": 17,\n        \"min\": 23,\n        \"max\": 90,\n        \"num_unique_values\": 35,\n        \"samples\": [\n          73,\n          77\n        ],\n        \"semantic_type\": \"\",\n        \"description\": \"\"\n      }\n    },\n    {\n      \"column\": \"Frontal/Lateral\",\n      \"properties\": {\n        \"dtype\": \"category\",\n        \"num_unique_values\": 1,\n        \"samples\": [\n          \"Frontal\"\n        ],\n        \"semantic_type\": \"\",\n        \"description\": \"\"\n      }\n    },\n    {\n      \"column\": \"AP/PA\",\n      \"properties\": {\n        \"dtype\": \"category\",\n        \"num_unique_values\": 2,\n        \"samples\": [\n          \"PA\"\n        ],\n        \"semantic_type\": \"\",\n        \"description\": \"\"\n      }\n    },\n    {\n      \"column\": \"No Finding\",\n      \"properties\": {\n        \"dtype\": \"number\",\n        \"std\": 0.0,\n        \"min\": 0.0,\n        \"max\": 0.0,\n        \"num_unique_values\": 1,\n        \"samples\": [\n          0.0\n        ],\n        \"semantic_type\": \"\",\n        \"description\": \"\"\n      }\n    },\n    {\n      \"column\": \"Enlarged Cardiomediastinum\",\n      \"properties\": {\n        \"dtype\": \"number\",\n        \"std\": 0.46049274850812955,\n        \"min\": 0.0,\n        \"max\": 1.0,\n        \"num_unique_values\": 2,\n        \"samples\": [\n          0.0\n        ],\n        \"semantic_type\": \"\",\n        \"description\": \"\"\n      }\n    },\n    {\n      \"column\": \"Cardiomegaly\",\n      \"properties\": {\n        \"dtype\": \"number\",\n        \"std\": 0.5017331074496789,\n        \"min\": 0.0,\n        \"max\": 1.0,\n        \"num_unique_values\": 2,\n        \"samples\": [\n          1.0\n        ],\n        \"semantic_type\": \"\",\n        \"description\": \"\"\n      }\n    },\n    {\n      \"column\": \"Lung Opacity\",\n      \"properties\": {\n        \"dtype\": \"number\",\n        \"std\": 0.29378482569650155,\n        \"min\": 0.0,\n        \"max\": 1.0,\n        \"num_unique_values\": 2,\n        \"samples\": [\n          0.0\n        ],\n        \"semantic_type\": \"\",\n        \"description\": \"\"\n      }\n    },\n    {\n      \"column\": \"Lung Lesion\",\n      \"properties\": {\n        \"dtype\": \"number\",\n        \"std\": 0.0,\n        \"min\": 0.0,\n        \"max\": 0.0,\n        \"num_unique_values\": 1,\n        \"samples\": [\n          0.0\n        ],\n        \"semantic_type\": \"\",\n        \"description\": \"\"\n      }\n    },\n    {\n      \"column\": \"Edema\",\n      \"properties\": {\n        \"dtype\": \"number\",\n        \"std\": 0.42695628191498325,\n        \"min\": 0.0,\n        \"max\": 1.0,\n        \"num_unique_values\": 2,\n        \"samples\": [\n          1.0\n        ],\n        \"semantic_type\": \"\",\n        \"description\": \"\"\n      }\n    },\n    {\n      \"column\": \"Consolidation\",\n      \"properties\": {\n        \"dtype\": \"number\",\n        \"std\": 0.495014830625995,\n        \"min\": 0.0,\n        \"max\": 1.0,\n        \"num_unique_values\": 2,\n        \"samples\": [\n          1.0\n        ],\n        \"semantic_type\": \"\",\n        \"description\": \"\"\n      }\n    },\n    {\n      \"column\": \"Pneumonia\",\n      \"properties\": {\n        \"dtype\": \"number\",\n        \"std\": 0.3145764348029479,\n        \"min\": 0.0,\n        \"max\": 1.0,\n        \"num_unique_values\": 2,\n        \"samples\": [\n          1.0\n        ],\n        \"semantic_type\": \"\",\n        \"description\": \"\"\n      }\n    },\n    {\n      \"column\": \"Atelectasis\",\n      \"properties\": {\n        \"dtype\": \"number\",\n        \"std\": 0.4451569190068627,\n        \"min\": 0.0,\n        \"max\": 1.0,\n        \"num_unique_values\": 2,\n        \"samples\": [\n          0.0\n        ],\n        \"semantic_type\": \"\",\n        \"description\": \"\"\n      }\n    },\n    {\n      \"column\": \"Pneumothorax\",\n      \"properties\": {\n        \"dtype\": \"number\",\n        \"std\": 0.17536809360305042,\n        \"min\": 0.0,\n        \"max\": 1.0,\n        \"num_unique_values\": 2,\n        \"samples\": [\n          1.0\n        ],\n        \"semantic_type\": \"\",\n        \"description\": \"\"\n      }\n    },\n    {\n      \"column\": \"Pleural Effusion\",\n      \"properties\": {\n        \"dtype\": \"number\",\n        \"std\": 0.0,\n        \"min\": 1.0,\n        \"max\": 1.0,\n        \"num_unique_values\": 1,\n        \"samples\": [\n          1.0\n        ],\n        \"semantic_type\": \"\",\n        \"description\": \"\"\n      }\n    },\n    {\n      \"column\": \"Pleural Other\",\n      \"properties\": {\n        \"dtype\": \"number\",\n        \"std\": 0.125,\n        \"min\": 0.0,\n        \"max\": 1.0,\n        \"num_unique_values\": 2,\n        \"samples\": [\n          1.0\n        ],\n        \"semantic_type\": \"\",\n        \"description\": \"\"\n      }\n    },\n    {\n      \"column\": \"Fracture\",\n      \"properties\": {\n        \"dtype\": \"number\",\n        \"std\": 0.0,\n        \"min\": 0.0,\n        \"max\": 0.0,\n        \"num_unique_values\": 1,\n        \"samples\": [\n          0.0\n        ],\n        \"semantic_type\": \"\",\n        \"description\": \"\"\n      }\n    },\n    {\n      \"column\": \"Support Devices\",\n      \"properties\": {\n        \"dtype\": \"number\",\n        \"std\": 0.503706499953334,\n        \"min\": 0.0,\n        \"max\": 1.0,\n        \"num_unique_values\": 2,\n        \"samples\": [\n          1.0\n        ],\n        \"semantic_type\": \"\",\n        \"description\": \"\"\n      }\n    },\n    {\n      \"column\": \"Patient number\",\n      \"properties\": {\n        \"dtype\": \"string\",\n        \"num_unique_values\": 64,\n        \"samples\": [\n          \"64692\"\n        ],\n        \"semantic_type\": \"\",\n        \"description\": \"\"\n      }\n    }\n  ]\n}"
            }
          },
          "metadata": {},
          "execution_count": 6
        }
      ]
    },
    {
      "cell_type": "markdown",
      "source": [
        "The radiographs are labeled for the presence of 14 observations as positive, negative, or uncertain."
      ],
      "metadata": {
        "id": "Xl7zbcwwaz36"
      }
    },
    {
      "cell_type": "code",
      "source": [
        "LABELS = [\n",
        "    'No Finding', 'Enlarged Cardiomediastinum', 'Cardiomegaly',\n",
        "    'Lung Opacity', 'Lung Lesion', 'Edema', 'Consolidation',\n",
        "    'Pneumonia', 'Atelectasis', 'Pneumothorax', 'Pleural Effusion',\n",
        "    'Pleural Other', 'Fracture', 'Support Devices'\n",
        "]\n",
        "NR_LABELS = len(LABELS)"
      ],
      "metadata": {
        "id": "K1qi_ylKBf-o"
      },
      "execution_count": null,
      "outputs": []
    },
    {
      "cell_type": "markdown",
      "source": [
        "### Pleural effusion label"
      ],
      "metadata": {
        "id": "AkCY1sJl3uXr"
      }
    },
    {
      "cell_type": "code",
      "source": [
        "train_df = train_df[train_df[\"Pleural Effusion\"].notna()]\n",
        "print(f\"Positive pleural effusion samples: {len(train_df[train_df['Pleural Effusion'].astype(int)==1])}\")\n",
        "print(f\"Negative pleural effusion samples: {len(train_df[train_df['Pleural Effusion'].astype(int)==0])}\")\n",
        "print(f\"Uncertain pleural effusion samples: {len(train_df[train_df['Pleural Effusion'].astype(int)==-1])}\")"
      ],
      "metadata": {
        "colab": {
          "base_uri": "https://localhost:8080/"
        },
        "id": "KPYpUdxw3zkv",
        "outputId": "7cec1513-2093-4041-8432-ec3c5f931c51"
      },
      "execution_count": null,
      "outputs": [
        {
          "output_type": "stream",
          "name": "stdout",
          "text": [
            "Positive pleural effusion samples: 76899\n",
            "Negative pleural effusion samples: 25299\n",
            "Uncertain pleural effusion samples: 9578\n"
          ]
        }
      ]
    },
    {
      "cell_type": "markdown",
      "source": [
        "There are aound 10% of uncertain Pleural Effusion datapoints from all the labelled patients. There is a class imbalance favouring the positive label in a ratio of around 3:1."
      ],
      "metadata": {
        "id": "4CzM2h358ADc"
      }
    },
    {
      "cell_type": "markdown",
      "source": [
        "## Pytorch dataset"
      ],
      "metadata": {
        "id": "ch6uZf1G152V"
      }
    },
    {
      "cell_type": "code",
      "source": [
        "class CheXpertDataset(torch.utils.data.Dataset):\n",
        "\n",
        "  def __init__(self,\n",
        "               root_dir: str,\n",
        "               csv_file: str = None,\n",
        "               hdf5_file: str = None,\n",
        "               uncertainty: str = \"u-ignore\",\n",
        "               subset_ratio: float = 1.0,\n",
        "               stage: str = \"train\",\n",
        "               pretrained: bool = True\n",
        "               ):\n",
        "    self.stage = stage\n",
        "    self.root_dir = root_dir\n",
        "    self.transform = torchvision.transforms.Compose([\n",
        "        torchvision.transforms.Resize((224, 224)), # Resize to 224x224\n",
        "        torchvision.transforms.ToTensor(),  # Converts image to [0, 1] and to shape (1, 224, 224)\n",
        "        ])\n",
        "    self.normalize = torchvision.transforms.Normalize(mean=[0.485, 0.456, 0.406],\n",
        "                                                      std=[0.229, 0.224, 0.225])\n",
        "    self.label = \"Pleural Effusion\"\n",
        "    self.uncertainty = uncertainty\n",
        "    self.pretrained = pretrained\n",
        "    self.device = torch.device(\"cuda\" if torch.cuda.is_available() else \"cpu\")\n",
        "\n",
        "    if self.stage == 'pred':\n",
        "      self.file_names = [f for f in os.listdir(root_dir)]\n",
        "\n",
        "    elif self.stage == \"preprocess\":\n",
        "      # Load the CSV and filter the dataframe.\n",
        "      if csv_file is None:\n",
        "          raise ValueError(\"csv_file must be provided for preprocess stage.\")\n",
        "      self.data = pd.read_csv(csv_file)\n",
        "      self.data = self.data[self.data['Frontal/Lateral'] == 'Frontal']  # Select only frontal images\n",
        "      self.data = self.data[self.data[self.label].notna()]  # Only non-NaN values for the selected label\n",
        "      self.hdf5_path = csv_file.replace(\".csv\", \".hdf5\")\n",
        "\n",
        "    elif self.stage == \"train\":\n",
        "      # For training, load the preprocessed HDF5 database.\n",
        "      if hdf5_file is None:\n",
        "        raise ValueError(\"hdf5_file must be provided for train stage.\")\n",
        "      self.hdf5_file = hdf5_file\n",
        "      f = h5py.File(self.hdf5_file, 'r')\n",
        "      self.images = f[\"images\"]\n",
        "      self.labels = f[\"labels\"]\n",
        "\n",
        "      # Load only a subset if desired.\n",
        "      if subset_ratio < 1.0:\n",
        "        nr_datapoints = int(len(self.images) * subset_ratio)\n",
        "        self.images = self.images[:nr_datapoints]\n",
        "        self.labels = self.labels[:nr_datapoints]\n",
        "\n",
        "      # Apply the selected uncertainty approach\n",
        "      labels_all = self.labels[:]\n",
        "      if self.uncertainty == \"u-ignore\":\n",
        "        self.indices = np.where(labels_all != -1)[0] # Keep only non uncertain records.\n",
        "        self.labels = self.labels[self.indices]\n",
        "      elif self.uncertainty == \"u-zeroes\":\n",
        "        labels_all[labels_all == -1] = 0   # Replace uncertain with negative.\n",
        "        self.labels_list = labels_all\n",
        "      elif self.uncertainty == \"u-ones\":\n",
        "        labels_all[labels_all == -1] = 1   # Replace uncertain with positive.\n",
        "        self.labels_list = labels_all\n",
        "      elif self.uncertainty == \"3-class\":\n",
        "        self.labels_list = labels_all\n",
        "      else:\n",
        "        raise ValueError(\"Selected uncertainty method does not exist.\")\n",
        "\n",
        "    else:\n",
        "        raise ValueError(\"Stage must be either 'preprocess', 'train' or 'pred'.\")\n",
        "\n",
        "\n",
        "  def __len__(self) -> int:\n",
        "    if self.stage == \"train\" and self.uncertainty == \"u-ignore\":\n",
        "      return len(self.indices)\n",
        "    elif self.stage == \"train\":\n",
        "      return len(self.labels_list)\n",
        "    elif self.stage == 'pred':\n",
        "      return len(self.file_names)\n",
        "    return len(self.data)\n",
        "\n",
        "  def __getitem__(self, idx) -> typing.Tuple[torch.tensor, np.float64]:\n",
        "\n",
        "    if self.stage == \"train\":\n",
        "\n",
        "      # Change the index to the whole dataset one if ignoring u labels.\n",
        "      if self.uncertainty == \"u-ignore\":\n",
        "        img_np = self.images[self.indices[idx]]\n",
        "        label_np = self.labels[idx]\n",
        "      else:\n",
        "        img_np = self.images[idx]\n",
        "        label_np = self.labels_list[idx]\n",
        "\n",
        "      # Convert numpy arrays to torch tensors.\n",
        "      image = torch.from_numpy(img_np).float().to(self.device) # shape (1, 224, 224)\n",
        "      label = torch.from_numpy(label_np).float().to(self.device) # shape (1,)\n",
        "\n",
        "      # Apply ImageNet normalization if working with pretrained models\n",
        "      if self.pretrained:\n",
        "        if image.shape[0] == 1:\n",
        "          image = image.repeat(3, 1, 1)  # replicate the single channel\n",
        "        image = self.normalize(image)\n",
        "\n",
        "      return image, label\n",
        "\n",
        "    elif self.stage == 'pred':\n",
        "      img_path = os.path.join(self.root_dir, self.file_names[idx])\n",
        "      label = torch.tensor([-1])  # -1 as a placeholder for unknown label\n",
        "      img = Image.open(img_path).convert('RGB')\n",
        "      img = self.transform(img)\n",
        "      return img, label\n",
        "\n",
        "    elif self.stage == \"preprocess\":\n",
        "      row = self.data.iloc[idx]\n",
        "      img_path = os.path.join(self.root_dir, row['Path'])\n",
        "      label = np.array([row[self.label]])\n",
        "\n",
        "      image = cv2.imread(img_path, cv2.IMREAD_GRAYSCALE)\n",
        "      if image is None:\n",
        "          raise RuntimeError(f\"Image not found or unable to load: {img_path}\")\n",
        "      image = cv2.resize(image, (224, 224)) # Resize image to 224x224\n",
        "      image = image.astype(np.float16) / 255.0  # Convert image to float16 and normalize pixel values to [0, 1]\n",
        "      # image = np.expand_dims(image, axis=0) # shape (1, 224, 224)\n",
        "      return image, label\n",
        "\n",
        "  def create_hdf5_db(self,  include_patient_id: bool = False):\n",
        "    \"\"\"\n",
        "    Iterates over the dataset (using __getitem__ for preprocessing) and saves the preprocessed image tensor,\n",
        "    label, and optionally a patient ID string to an HDF5 file.\n",
        "    \"\"\"\n",
        "    if self.stage != \"preprocess\":\n",
        "        raise RuntimeError(\"create_hdf5_db can only be called in the 'preprocess' stage.\")\n",
        "\n",
        "    num_samples = len(self.data)\n",
        "    with h5py.File(self.hdf5_path, 'w') as hf:\n",
        "      # Preallocate datasets. (Images are assumed to be grayscale with shape (1, 224, 224).)\n",
        "      images_ds = hf.create_dataset(\"images\", shape=(num_samples, 1, 224, 224), dtype=np.float16)\n",
        "      labels_ds = hf.create_dataset(\"labels\", shape=(num_samples, 1), dtype=np.int64)\n",
        "      if include_patient_id:\n",
        "        dt = h5py.string_dtype(encoding='utf-8')\n",
        "        patient_ids_ds = hf.create_dataset(\"patient_ids\", shape=(num_samples,), dtype=dt)\n",
        "\n",
        "      for i in tqdm(range(num_samples)):\n",
        "        # Use __getitem__ to preprocess and obtain torch tensors.\n",
        "        image, label = self[i]\n",
        "        # Convert torch tensors to numpy arrays for HDF5 storage.\n",
        "        images_ds[i] = image\n",
        "        labels_ds[i] = label\n",
        "        if include_patient_id:\n",
        "          # Retrieve patient id from the original dataframe (if available).\n",
        "          row = self.data.iloc[i]\n",
        "          patient_id = row.get('PatientID', 'unknown')\n",
        "          patient_ids_ds[i] = patient_id\n",
        "\n",
        "      print(f\"HDF5 database created at {self.hdf5_path} with {num_samples} samples.\")"
      ],
      "metadata": {
        "id": "dPfV-2HFy9zK"
      },
      "execution_count": null,
      "outputs": []
    },
    {
      "cell_type": "markdown",
      "source": [
        "### Preprocess and save the dataset into HDF5 DB"
      ],
      "metadata": {
        "id": "QeJqF6wl0aNW"
      }
    },
    {
      "cell_type": "code",
      "source": [
        "if not os.path.exists(os.path.join(CHEXPERT_PATH, \"CheXpert-v1.0-small\", \"train.hdf5\")):\n",
        "    all_train_dataset = CheXpertDataset(\n",
        "        root_dir = CHEXPERT_PATH,\n",
        "        csv_file = CHEXPERT_PATH + \"/CheXpert-v1.0-small/train.csv\",\n",
        "        uncertainty = \"u-ignore\",\n",
        "        stage = \"preprocess\"\n",
        "        )\n",
        "    all_train_dataset.create_hdf5_db()\n",
        "if not os.path.exists(os.path.join(CHEXPERT_PATH, \"CheXpert-v1.0-small\", \"valid.hdf5\")):\n",
        "    test_dataset = CheXpertDataset(\n",
        "        root_dir = CHEXPERT_PATH,\n",
        "        csv_file = CHEXPERT_PATH + \"/CheXpert-v1.0-small/valid.csv\",\n",
        "        stage=\"preprocess\"\n",
        "        )\n",
        "    test_dataset.create_hdf5_db()"
      ],
      "metadata": {
        "id": "qjVYcNxy0Zoz"
      },
      "execution_count": null,
      "outputs": []
    },
    {
      "cell_type": "markdown",
      "source": [
        "### Load models from HDF5 database"
      ],
      "metadata": {
        "id": "HPXgJxJK0hzB"
      }
    },
    {
      "cell_type": "code",
      "source": [
        "all_train_dataset = CheXpertDataset(\n",
        "    root_dir = CHEXPERT_PATH,\n",
        "    hdf5_file = CHEXPERT_PATH + \"/CheXpert-v1.0-small/train.hdf5\",\n",
        "    uncertainty=\"u-ones\",\n",
        "    stage=\"train\")\n",
        "test_dataset = CheXpertDataset(\n",
        "    root_dir = CHEXPERT_PATH,\n",
        "    hdf5_file = CHEXPERT_PATH + \"/CheXpert-v1.0-small/valid.hdf5\",\n",
        "    stage=\"train\")\n",
        "\n",
        "print(f\"Number training datapoints: {len(all_train_dataset)}\")\n",
        "print(f\"Number test datapoints: {len(test_dataset)}\")"
      ],
      "metadata": {
        "id": "LaEq5E4u0mE2",
        "colab": {
          "base_uri": "https://localhost:8080/"
        },
        "outputId": "a6c5eed1-b8a7-495d-8640-283abc6baeff"
      },
      "execution_count": null,
      "outputs": [
        {
          "output_type": "stream",
          "name": "stdout",
          "text": [
            "Number training datapoints: 111776\n",
            "Number test datapoints: 202\n"
          ]
        }
      ]
    },
    {
      "cell_type": "code",
      "source": [
        "print(all_train_dataset[0][0].shape)"
      ],
      "metadata": {
        "colab": {
          "base_uri": "https://localhost:8080/"
        },
        "id": "nbnR6A3F0poQ",
        "outputId": "5255438f-e426-4b1d-af2d-8b216bf473a6"
      },
      "execution_count": null,
      "outputs": [
        {
          "output_type": "stream",
          "name": "stdout",
          "text": [
            "torch.Size([3, 224, 224])\n"
          ]
        }
      ]
    },
    {
      "cell_type": "markdown",
      "source": [
        "## Pytorch dataloaders"
      ],
      "metadata": {
        "id": "vc-Vt5LG0zf9"
      }
    },
    {
      "cell_type": "code",
      "source": [
        "class OversampleNegativeDataLoader(torch.utils.data.DataLoader):\n",
        "  def __init__(self, dataset, labels, batch_size, num_workers=0, pin_memory=False):\n",
        "    classes, counts = np.unique(labels, return_counts=True)\n",
        "    class_counts = dict(zip(classes, counts))\n",
        "    # Compute sample weights: inverse frequency of the label\n",
        "    sample_weights = np.array([1.0 / class_counts[label] for label in labels])\n",
        "\n",
        "    sampler = torch.utils.data.WeightedRandomSampler(\n",
        "        weights=sample_weights,\n",
        "        num_samples=len(sample_weights),\n",
        "        replacement=True\n",
        "    )\n",
        "\n",
        "    super().__init__(\n",
        "        dataset=dataset,\n",
        "        batch_size=batch_size,\n",
        "        sampler=sampler,\n",
        "        num_workers=num_workers,\n",
        "        pin_memory=pin_memory,\n",
        "        shuffle=False #As we are sampling\n",
        "    )\n",
        "\n",
        "def get_dataloaders(batch_size,\n",
        "                    root_dir = CHEXPERT_PATH,\n",
        "                    uncertainty: str = \"u-ignore\",\n",
        "                    validation: float = 0,\n",
        "                    train_subset: float = 1,\n",
        "                    val_split: str = \"stratified\",\n",
        "                    pretrained: bool = True,\n",
        "                    pin_memory: bool = False,\n",
        "                    verbose: bool = True\n",
        "                    ):\n",
        "\n",
        "  all_train_dataset = CheXpertDataset(\n",
        "      root_dir=root_dir,\n",
        "      hdf5_file= root_dir + \"/CheXpert-v1.0-small/train.hdf5\",\n",
        "      uncertainty=uncertainty,\n",
        "      pretrained=pretrained,\n",
        "      subset_ratio=train_subset\n",
        "      )\n",
        "  test_dataset = CheXpertDataset(\n",
        "      root_dir=root_dir,\n",
        "      hdf5_file= root_dir + \"/CheXpert-v1.0-small/valid.hdf5\",\n",
        "      uncertainty=uncertainty,\n",
        "      pretrained=pretrained\n",
        "      )\n",
        "\n",
        "  # Perform train-validation split with the original train set\n",
        "  if validation:\n",
        "    if val_split == \"stratified\":\n",
        "      train_indices, valid_indices = sklearn.model_selection.train_test_split(\n",
        "          np.arange(len(all_train_dataset)),\n",
        "          test_size=validation,\n",
        "          stratify=all_train_dataset.labels,  # Ensures same class distribution in both splits\n",
        "          random_state=42  # For reproducibility\n",
        "          )\n",
        "      train_dataset = torch.utils.data.Subset(all_train_dataset, train_indices)\n",
        "      valid_dataset = torch.utils.data.Subset(all_train_dataset, valid_indices)\n",
        "    elif val_split == \"random\":\n",
        "      valid_length = int(validation * len(all_train_dataset))\n",
        "      train_length = len(all_train_dataset) - valid_length\n",
        "      train_dataset, valid_dataset = torch.utils.data.random_split(\n",
        "        all_train_dataset,\n",
        "        (train_length, valid_length)\n",
        "        )\n",
        "      train_indices = train_dataset.indices\n",
        "    else:\n",
        "      raise ValueError(\"Selected validation split method does not exist.\")\n",
        "  else:\n",
        "    train_dataset = all_train_dataset\n",
        "    train_indices = np.arange(len(all_train_dataset))\n",
        "\n",
        "  # To deal with class imbalance, oversample the minority class\n",
        "  train_dataloader = OversampleNegativeDataLoader(\n",
        "      dataset = train_dataset,\n",
        "      labels= np.array(all_train_dataset.labels)[train_indices].squeeze().astype(int),\n",
        "      batch_size = batch_size\n",
        "      )\n",
        "  test_dataloader = torch.utils.data.DataLoader(dataset = test_dataset)\n",
        "  if validation:\n",
        "    valid_dataloader = torch.utils.data.DataLoader(\n",
        "        dataset = valid_dataset,\n",
        "        batch_size = batch_size,\n",
        "        shuffle = True,\n",
        "        num_workers=0,\n",
        "        pin_memory=pin_memory\n",
        "        )\n",
        "  else:\n",
        "    valid_dataloader = None\n",
        "\n",
        "  if verbose:\n",
        "    print(f\"Train: {len(train_dataset)} datapoints in {len(train_dataloader)} batches.\")\n",
        "    if validation: print(f\"Validation: {len(valid_dataset)} datapoints in {len(valid_dataloader)} batches.\")\n",
        "    print(f\"Test: {len(test_dataset)} datapoints.\")\n",
        "\n",
        "  return train_dataloader, valid_dataloader, test_dataloader"
      ],
      "metadata": {
        "id": "U4qb-cmr00aq"
      },
      "execution_count": null,
      "outputs": []
    },
    {
      "cell_type": "markdown",
      "source": [
        "# Model training"
      ],
      "metadata": {
        "id": "7389ALQu7BPA"
      }
    },
    {
      "cell_type": "markdown",
      "source": [
        "## Models"
      ],
      "metadata": {
        "id": "3fEZSV_4A3oq"
      }
    },
    {
      "cell_type": "code",
      "source": [
        "class DenseNet121(torch.nn.Module):\n",
        "  def __init__(self, out_size=1, pretrained=True, nr_trained_layers=1):\n",
        "    super(DenseNet121, self).__init__()\n",
        "    self.pretrained = pretrained\n",
        "    self.nr_trained_layers = nr_trained_layers\n",
        "    self.model = torchvision.models.densenet121(weights=\"DEFAULT\" if self.pretrained else None)\n",
        "    if not pretrained:\n",
        "      self.model.features.conv0 = torch.nn.Conv2d(1, 64, kernel_size=(7, 7), stride=(2, 2), padding=(3, 3), bias=False)\n",
        "    self.model.classifier = torch.nn.Linear(self.model.classifier.in_features, out_size)\n",
        "\n",
        "    if pretrained:\n",
        "      for param in self.model.parameters():\n",
        "        param.requires_grad = False\n",
        "      if nr_trained_layers == 1:\n",
        "        for param in self.model.classifier.parameters():\n",
        "          param.requires_grad = True\n",
        "      if nr_trained_layers == 2:\n",
        "        for param in self.model.features.denseblock4.parameters():\n",
        "          param.requires_grad = True\n",
        "\n",
        "  def forward(self, x):\n",
        "    x = self.model(x)\n",
        "    return x\n",
        "\n",
        "class ResNet34(nn.Module):\n",
        "  def __init__(self, out_size=1, pretrained=True, nr_trained_layers=0):\n",
        "    super(ResNet34, self).__init__()\n",
        "    self.pretrained = pretrained\n",
        "    self.nr_trained_layers = nr_trained_layers\n",
        "    self.model = torchvision.models.resnet34(weights=\"DEFAULT\" if pretrained else None)\n",
        "    if not pretrained:\n",
        "      self.model.conv1 = nn.Conv2d(1, 64, kernel_size=7, stride=2, padding=3, bias=False)\n",
        "    self.model.fc = nn.Linear(self.model.fc.in_features, out_size)\n",
        "    if pretrained:\n",
        "      for param in self.model.parameters():\n",
        "        param.requires_grad = False\n",
        "      if nr_trained_layers == 1:\n",
        "        for param in self.model.fc.parameters():\n",
        "          param.requires_grad = True\n",
        "      if nr_trained_layers == 2:\n",
        "        for param in self.model.layer4.parameters():\n",
        "          param.requires_grad = True\n",
        "\n",
        "  def forward(self, x):\n",
        "    x = self.model(x)\n",
        "    return x"
      ],
      "metadata": {
        "id": "Zd7-lc5omgib"
      },
      "execution_count": null,
      "outputs": []
    },
    {
      "cell_type": "code",
      "source": [
        "def n_weights(model): return sum(p.numel() for p in model.parameters() if p.requires_grad)\n",
        "print(f\"ResNet34 all weights: {n_weights(ResNet34(1, pretrained=False))}\")\n",
        "print(f\"ResNet34 last layer weights: {n_weights(ResNet34(1, nr_trained_layers=1))}\")\n",
        "print(f\"ResNet34 two last layers weights: {n_weights(ResNet34(1, nr_trained_layers=2))}\")\n",
        "print(f\"DenseNet121 all weights: {n_weights(DenseNet121(1, pretrained=False))}\")\n",
        "print(f\"DenseNet121 last layer weights: {n_weights(DenseNet121(1, nr_trained_layers=1))}\")\n",
        "print(f\"DenseNet121 two last layers weights: {n_weights(DenseNet121(1, nr_trained_layers=2))}\")"
      ],
      "metadata": {
        "colab": {
          "base_uri": "https://localhost:8080/"
        },
        "id": "UljDJVfouX2j",
        "outputId": "21064fdc-bbf5-4e2e-bbc4-213a1e47b870"
      },
      "execution_count": null,
      "outputs": [
        {
          "output_type": "stream",
          "name": "stdout",
          "text": [
            "ResNet34 all weights: 21278913\n",
            "ResNet34 last layer weights: 513\n",
            "ResNet34 two last layers weights: 13114368\n",
            "DenseNet121 all weights: 6948609\n",
            "DenseNet121 last layer weights: 1025\n",
            "DenseNet121 two last layers weights: 2158080\n"
          ]
        }
      ]
    },
    {
      "cell_type": "markdown",
      "source": [
        "## Train and test functions"
      ],
      "metadata": {
        "id": "bAeoBxlztF8k"
      }
    },
    {
      "cell_type": "code",
      "source": [
        "device = torch.device('cuda:0' if torch.cuda.is_available() else 'cpu')\n",
        "print(f\"Training on {device}\")\n",
        "os.environ[\"PYTORCH_CUDA_ALLOC_CONF\"] = \"expandable_segments:True\"\n",
        "torch.backends.cudnn.benchmark = True\n",
        "\n",
        "def train(model, params, dataloader_train, dataloader_val):\n",
        "  print(f\"Training the model {model.__class__.__name__} with parameters {params}\")\n",
        "  model.to(device)\n",
        "  optimizer = torch.optim.SGD(model.parameters(), lr=params[\"lr\"], momentum=params[\"momentum\"], weight_decay=params[\"weight_decay\"])\n",
        "  loss = torch.nn.BCEWithLogitsLoss()\n",
        "  min_loss = 1e6\n",
        "\n",
        "  train_start = []\n",
        "  train_end = []\n",
        "  train_losses = []\n",
        "  val_losses = []\n",
        "  train_accs = []\n",
        "  val_accs = []\n",
        "\n",
        "  for epoch in range(0, params[\"nr_epochs\"]):\n",
        "    # Train the model in one iteration of the training data\n",
        "    train_start.append(time.time()) # training starts\n",
        "    loss_train, acc_train = train_epoch(model, dataloader_train, optimizer, criterion=loss)\n",
        "    train_losses.append(loss_train)\n",
        "    train_accs.append(acc_train)\n",
        "    train_end.append(time.time()) # training ends\n",
        "\n",
        "    # Perform validation of the epoch if given validation data\n",
        "    if dataloader_val != None:\n",
        "      loss_val, acc_val = validate_epoch(model, dataloader_val, optimizer, criterion=loss)\n",
        "      val_losses.append(loss_val)\n",
        "      val_accs.append(acc_val)\n",
        "      print(f\"Epoch {epoch + 1} Training loss: {loss_train:.3f}  Valid loss: {loss_val:.3f}  Train acc: {acc_train:.3f}  Val acc: {acc_val:.3f}\")\n",
        "      if loss_val < min_loss: min_loss = loss_val\n",
        "    else:\n",
        "      print(f\"Epoch {epoch + 1} Training loss: {loss_train:.3f}  Train acc: {acc_train:.3f}\")\n",
        "\n",
        "  train_time = np.array(train_end) - np.array(train_start)\n",
        "  print(\"Training finished. \\n Training time for each epoch: {} seconds\".format(train_time.round(0)))\n",
        "\n",
        "  training_metrics = {\n",
        "    \"train_losses\": train_losses,\n",
        "    \"val_losses\": val_losses,\n",
        "    \"train_accs\": train_accs,\n",
        "    \"val_accs\": val_accs\n",
        "  }\n",
        "  return training_metrics\n",
        "\n",
        "def train_epoch(model, dataloader_train, optimizer, criterion):\n",
        "  running_loss = 0.0\n",
        "  correct = 0\n",
        "  total = 0\n",
        "  model.train()\n",
        "\n",
        "  for batch, (img, target) in enumerate(tqdm(dataloader_train)):\n",
        "\n",
        "    img, target = img.to(device), target.to(device)\n",
        "    out = model(img)\n",
        "    loss = criterion(out, target)\n",
        "\n",
        "    optimizer.zero_grad()\n",
        "    loss.backward()\n",
        "    optimizer.step()\n",
        "\n",
        "    running_loss += loss.item()\n",
        "\n",
        "    predicted = (out > 0).float()  # since using BCEWithLogitsLoss\n",
        "    correct += (predicted == target).sum().item()\n",
        "    total += target.numel()\n",
        "\n",
        "  acc = correct / total if total > 0 else 0\n",
        "\n",
        "  return running_loss / len(dataloader_train), acc\n",
        "\n",
        "def validate_epoch(model, dataloader_val, optimizer, criterion):\n",
        "  val_loss = 0.0\n",
        "  correct = 0\n",
        "  total = 0\n",
        "  model.eval()\n",
        "\n",
        "  with torch.no_grad():\n",
        "    for i, (img, target) in enumerate(tqdm(dataloader_val)):\n",
        "\n",
        "      img, target = img.to(device), target.to(device)\n",
        "      out = model(img)\n",
        "      loss = criterion(out, target)\n",
        "      val_loss += loss.item()\n",
        "\n",
        "      predicted = (out > 0).float()\n",
        "      correct += (predicted == target).sum().item()\n",
        "      total += target.numel()\n",
        "\n",
        "  acc = correct / total if total > 0 else 0\n",
        "\n",
        "  return val_loss / len(dataloader_val), acc\n",
        "\n",
        "def plot_train_vs_valid(train_metrics, val_metrics, metric_name):\n",
        "    \"\"\"\n",
        "    Plots training and validation metrics over epochs.\n",
        "\n",
        "    Parameters:\n",
        "      train_metrics (list or array): Metric values for the training set over epochs.\n",
        "      valid_metrics (list or array): Metric values for the validation set over epochs.\n",
        "      metric_name (str): Name of the metric to be plotted (e.g., 'Accuracy', 'Loss').\n",
        "    \"\"\"\n",
        "    epochs = range(1, len(train_metrics) + 1)\n",
        "\n",
        "    plt.figure(figsize=(10, 6))\n",
        "    plt.plot(epochs, train_metrics, label=\"Training \" + metric_name, marker='o')\n",
        "    if len(val_metrics) > 0:\n",
        "      plt.plot(epochs, val_metrics, label=\"Validation \" + metric_name, marker='o')\n",
        "    plt.xlabel(\"epochs\")\n",
        "    plt.xticks(ticks=epochs)\n",
        "    plt.ylabel(metric_name)\n",
        "    plt.title(f\"Training vs validation {metric_name}\")\n",
        "    plt.legend()\n",
        "    plt.grid(True)\n",
        "\n",
        "    # Save the plot into a temporary directory\n",
        "    image_path = os.path.join(\"/tmp\", f\"{metric_name}_train_vs_valid.png\")\n",
        "    plt.savefig(image_path)\n",
        "    plt.close()\n",
        "\n",
        "    return image_path\n",
        "\n",
        "def test(model, dataloader_test, checkpoint=None):\n",
        "  #torch.backends.cudnn.benchmark = True\n",
        "  print(f\"Testing the model {model.__class__.__name__}\")\n",
        "\n",
        "  if checkpoint != None and torch.cuda.is_available():\n",
        "    model_checkpoint = torch.load(checkpoint)\n",
        "    model.load_state_dict(model_checkpoint['state_dict'])\n",
        "\n",
        "  model.to(device)\n",
        "  model.eval()\n",
        "\n",
        "  true_labels = []\n",
        "  predictions = []\n",
        "\n",
        "  with torch.no_grad():\n",
        "    for i, (img, target) in enumerate(tqdm(dataloader_test)):\n",
        "\n",
        "      img, target = img.to(device), target.to(device)\n",
        "      true_labels.append(target)\n",
        "\n",
        "      # Ensure proper dimensionality of images\n",
        "      bs, c, h, w = img.size()\n",
        "      img = img.view(-1, c, h, w)\n",
        "\n",
        "      predictions.append(model(img))\n",
        "\n",
        "  return torch.cat(true_labels, dim=0), torch.cat(predictions, dim=0)\n",
        "\n",
        "\n",
        "def roc_curve_and_auc(true_labels, probabilities, filename=\"roc_curve.png\"):\n",
        "    ''' # Convert tensors to numpy arrays.\n",
        "    if torch.is_tensor(true_labels): true_labels = true_labels.cpu().numpy()\n",
        "    if torch.is_tensor(predictions): predictions = predictions.cpu().numpy() '''\n",
        "\n",
        "    ''' # If predictions have more than one dimension, flatten them.\n",
        "    if predictions.ndim > 1:\n",
        "        predictions = predictions.flatten() '''\n",
        "\n",
        "    # Compute ROC curve and AUC score.\n",
        "    fpr, tpr, _ = sklearn.metrics.roc_curve(true_labels, probabilities)\n",
        "    roc_auc = sklearn.metrics.auc(fpr, tpr)\n",
        "\n",
        "    # Create ROC plot.\n",
        "    plt.figure(figsize=(8, 6))\n",
        "    plt.plot(fpr, tpr, color=\"darkorange\", lw=2, label=f\"ROC curve, AUC={roc_auc:.2f}\")\n",
        "    plt.plot([0, 1], [0, 1], color=\"navy\", lw=2, linestyle=\"--\")\n",
        "    plt.xlim([0.0, 1.0])\n",
        "    plt.ylim([0.0, 1.05])\n",
        "    plt.xlabel(\"False Positive Rate\")\n",
        "    plt.ylabel(\"True Positive Rate\")\n",
        "    plt.title(\"Receiver Operating Characteristic (ROC)\")\n",
        "    plt.legend(loc=\"lower right\")\n",
        "\n",
        "    # Save the plot to a temporary directory.\n",
        "    image_path = os.path.join(\"/tmp\", filename)\n",
        "    plt.savefig(image_path)\n",
        "    plt.close()\n",
        "\n",
        "    return image_path, roc_auc\n",
        "\n",
        "def confusion_matrix(true_labels, predicted_labels, filename=\"confusion_matrix.png\"):\n",
        "\n",
        "  ''' # Convert tensors to numpy arrays.\n",
        "  if torch.is_tensor(true_labels): true_labels = true_labels.cpu().numpy()\n",
        "  if torch.is_tensor(predictions): predictions = predictions.cpu().numpy() '''\n",
        "\n",
        "\n",
        "  # Compute confusion matrix.\n",
        "  cm = sklearn.metrics.confusion_matrix(true_labels, predicted_labels)\n",
        "\n",
        "  # Create a pandas DataFrame for the confusion matrix.\n",
        "  df_cm = pd.DataFrame(cm, index=[\"Actual 0\", \"Actual 1\"],\n",
        "                            columns=[\"Predicted 0\", \"Predicted 1\"])\n",
        "\n",
        "  # Create a heatmap plot of the contingency table.\n",
        "  plt.figure(figsize=(6, 4))\n",
        "  sns.heatmap(df_cm, annot=True, fmt=\"d\", cmap=\"Blues\")\n",
        "  plt.title(\"Contingency Table\")\n",
        "  plt.ylabel(\"Actual\")\n",
        "  plt.xlabel(\"Predicted\")\n",
        "\n",
        "  image_path = os.path.join(\"/tmp\", filename)\n",
        "  plt.savefig(image_path)\n",
        "  plt.close()\n",
        "\n",
        "  return image_path\n"
      ],
      "metadata": {
        "colab": {
          "base_uri": "https://localhost:8080/"
        },
        "id": "qYcLdfUpCyUE",
        "outputId": "c695cd14-71fa-45d1-b25d-bf792bdef464"
      },
      "execution_count": null,
      "outputs": [
        {
          "output_type": "stream",
          "name": "stdout",
          "text": [
            "Training on cpu\n"
          ]
        }
      ]
    },
    {
      "cell_type": "markdown",
      "source": [
        "## Training experiments"
      ],
      "metadata": {
        "id": "V4idphvb6yBi"
      }
    },
    {
      "cell_type": "code",
      "source": [
        "def set_dagshub_mlflow():\n",
        "  dagshub.init(repo_name=\"xAI-CheXpert-radiology\", repo_owner=\"alexocayanez\", mlflow=True)\n",
        "  os.environ[\"MLFLOW_TRACKING_USERNAME\"] = \"ee47c8c4a6275109d3c8186c17b6b569ed9ef30b\"\n",
        "  os.environ[\"MLFLOW_TRACKING_URI\"] = \"https://dagshub.com/alexocayanez/xAI-CheXpert-radiology.mlflow\"\n",
        "  mlflow.set_tracking_uri('https://dagshub.com/alexocayanez/xAI-CheXpert-radiology.mlflow')\n",
        "\n",
        "def get_or_create_experiment_id(name):\n",
        "  exp = mlflow.get_experiment_by_name(name)\n",
        "  if exp is None:\n",
        "    exp_id = mlflow.create_experiment(name)\n",
        "    return exp_id\n",
        "  return exp.experiment_id\n",
        "\n",
        "set_dagshub_mlflow()"
      ],
      "metadata": {
        "id": "HOgOV1OPvSul",
        "colab": {
          "base_uri": "https://localhost:8080/",
          "height": 65
        },
        "outputId": "8b849342-abb1-4f51-c6c0-b9f912acb468"
      },
      "execution_count": null,
      "outputs": [
        {
          "output_type": "display_data",
          "data": {
            "text/plain": [
              "Accessing as kajaphi\n"
            ],
            "text/html": [
              "<pre style=\"white-space:pre;overflow-x:auto;line-height:normal;font-family:Menlo,'DejaVu Sans Mono',consolas,'Courier New',monospace\">Accessing as kajaphi\n",
              "</pre>\n"
            ]
          },
          "metadata": {}
        },
        {
          "output_type": "display_data",
          "data": {
            "text/plain": [
              "Initialized MLflow to track repo \u001b[32m\"alexocayanez/xAI-CheXpert-radiology\"\u001b[0m\n"
            ],
            "text/html": [
              "<pre style=\"white-space:pre;overflow-x:auto;line-height:normal;font-family:Menlo,'DejaVu Sans Mono',consolas,'Courier New',monospace\">Initialized MLflow to track repo <span style=\"color: #008000; text-decoration-color: #008000\">\"alexocayanez/xAI-CheXpert-radiology\"</span>\n",
              "</pre>\n"
            ]
          },
          "metadata": {}
        },
        {
          "output_type": "display_data",
          "data": {
            "text/plain": [
              "Repository alexocayanez/xAI-CheXpert-radiology initialized!\n"
            ],
            "text/html": [
              "<pre style=\"white-space:pre;overflow-x:auto;line-height:normal;font-family:Menlo,'DejaVu Sans Mono',consolas,'Courier New',monospace\">Repository alexocayanez/xAI-CheXpert-radiology initialized!\n",
              "</pre>\n"
            ]
          },
          "metadata": {}
        }
      ]
    },
    {
      "cell_type": "code",
      "source": [
        "def log_train(model, params, train_dataloader, valid_dataloader):\n",
        "  mlflow.log_params({\n",
        "        \"model_name\": model.__class__.__name__,\n",
        "        \"nr_training_datapoints\": len(train_dataloader)*params[\"batch_size\"],\n",
        "        \"pretrained\": model.pretrained,\n",
        "        \"nr_trained_layers\": model.nr_trained_layers,\n",
        "        \"batch_size\": params[\"batch_size\"],\n",
        "        \"momentum\": params[\"momentum\"],\n",
        "        \"weigth_decay\": params[\"weight_decay\"]\n",
        "      })\n",
        "  mlflow.log_params(params)\n",
        "\n",
        "  # Train the model and log the associated metrics\n",
        "  train_val_metrics = train(model, params, train_dataloader, valid_dataloader)\n",
        "  mlflow.log_params(train_val_metrics)\n",
        "\n",
        "  # Plot training vs validation LOSS and log it into mlflow\n",
        "  loss_plot_path = plot_train_vs_valid(\n",
        "      train_metrics=train_val_metrics[\"train_losses\"],\n",
        "      val_metrics=train_val_metrics[\"val_losses\"],\n",
        "      metric_name=\"loss\"\n",
        "      )\n",
        "  mlflow.log_artifact(loss_plot_path)\n",
        "\n",
        "  # Plot training vs validation ACCURACY and log it into mlflow\n",
        "  acc_plot_path = plot_train_vs_valid(\n",
        "      train_metrics=train_val_metrics[\"train_accs\"],\n",
        "      val_metrics=train_val_metrics[\"val_accs\"],\n",
        "      metric_name=\"accuracy\"\n",
        "      )\n",
        "  mlflow.log_artifact(acc_plot_path)\n",
        "\n",
        "  return train_val_metrics\n",
        "\n",
        "def log_test(model, test_dataloader):\n",
        "  true_labels, predictions = test(model, test_dataloader)\n",
        "  sigmoid = torch.nn.Sigmoid() # As it is not incorpored in the model\n",
        "  predicted_labels = (predictions > 0.5).float()\n",
        "\n",
        "  true_labels = true_labels.cpu()\n",
        "  predictions = predictions.cpu()\n",
        "  predicted_labels = predicted_labels.cpu()\n",
        "\n",
        "  # Compute and log ROC curve and AUC metric\n",
        "  roc_plot_path, auroc = roc_curve_and_auc(\n",
        "      true_labels = true_labels,\n",
        "      probabilities = sigmoid(predictions)\n",
        "      )\n",
        "  mlflow.log_artifact(roc_plot_path)\n",
        "  mlflow.log_metric(\"AUC\", auroc)\n",
        "\n",
        "  # Log confusion matrix\n",
        "  confusion_matrix_path = confusion_matrix(true_labels, predicted_labels)\n",
        "  mlflow.log_artifact(confusion_matrix_path)\n",
        "\n",
        "  # Log accuracy and F1-score\n",
        "  mlflow.log_metric(\n",
        "      \"Accuracy\",\n",
        "      sklearn.metrics.accuracy_score(y_true=true_labels, y_pred=predicted_labels)\n",
        "      )\n",
        "  mlflow.log_metric(\n",
        "      \"F1-score\",\n",
        "      sklearn.metrics.f1_score(y_true=true_labels, y_pred=predicted_labels)\n",
        "      )\n",
        "  mlflow.log_metric(\n",
        "      \"Balanced accuracy\",\n",
        "      sklearn.metrics.balanced_accuracy_score(y_true=true_labels, y_pred=predicted_labels)\n",
        "      )\n",
        "\n",
        "def train_test_log_model(model, params, uncertainty=\"u-ignore\", validation=0, train_subset=1):\n",
        "  model_name = model.__class__.__name__\n",
        "  assert train_subset>=0 and train_subset<=1\n",
        "  assert validation>=0 and validation<=1\n",
        "\n",
        "  if validation:\n",
        "    experiment_id = get_or_create_experiment_id(\"Train_val_and_test\")\n",
        "  else:\n",
        "    experiment_id = get_or_create_experiment_id(\"Train_and_test\")\n",
        "\n",
        "  with mlflow.start_run(experiment_id=experiment_id):\n",
        "\n",
        "    train_dataloader, valid_dataloader, test_dataloader = get_dataloaders(\n",
        "        batch_size = params[\"batch_size\"],\n",
        "        validation = validation,\n",
        "        train_subset = train_subset,\n",
        "        uncertainty = uncertainty\n",
        "        )\n",
        "    mlflow.log_params({\"uncertainty\": uncertainty})\n",
        "\n",
        "    log_train(model, params, train_dataloader, valid_dataloader)\n",
        "    log_test(model, test_dataloader)\n",
        "\n",
        "    input_shape = (3, 224, 224) if model.pretrained else (1, 224, 224)\n",
        "    input_example = torch.zeros(input_shape, dtype=torch.float32).unsqueeze(0).to(device)\n",
        "    signature = mlflow.models.infer_signature(model_input=input_example, model_output=model(input_example))\n",
        "    mlflow.pytorch.log_model(\n",
        "        model.cpu(),\n",
        "        artifact_path = f\"{model_name}-model\",\n",
        "        signature = signature\n",
        "        )\n",
        "\n",
        "\n",
        "def tune_hyperparameters(model_class, uncertainty=\"u-ignore\", n_trials=20, validation=0.1, train_subset=1, log_n_best=0, max_nr_epochs=4):\n",
        "  \"\"\"\n",
        "  Hyperparameter tuning using optuna for a given model class.\n",
        "\n",
        "  Parameters:\n",
        "    model (class): The model class (e.g., DenseNet121 or ResNet34) to be tuned.\n",
        "    n_trials (int): Number of optuna trials.\n",
        "    validation (float): Fraction of training data to use as validation.\n",
        "    train_subset (float): Fraction of the training set to use (for developing).\n",
        "    log_n_best (int): Number of best trials to retrain/log in the final experiment.\n",
        "\n",
        "  Returns:\n",
        "    study (optuna.Study): The completed optuna study.\n",
        "  \"\"\"\n",
        "  experiment_name = f\"{model_class.__name__}_{uncertainty}_hp_tuning\"\n",
        "  experiment_id = get_or_create_experiment_id(experiment_name)\n",
        "  mlflow.set_experiment(experiment_name)\n",
        "\n",
        "  def objective(trial):\n",
        "    use_weight_decay = trial.suggest_categorical(\"use_weight_decay\", [True, False])\n",
        "    params = {\n",
        "        \"pretrained\": True,  #bool(trial.suggest_int(\"pretrained\", 0, 1)),\n",
        "        \"lr\": trial.suggest_float(\"lr\", 1e-6, 1e-3, log=True),\n",
        "        \"batch_size\": trial.suggest_categorical(\"batch_size\", [16, 32, 64, 128]),\n",
        "        \"nr_epochs\": trial.suggest_int(\"nr_epochs\", 1, max_nr_epochs),\n",
        "        \"momentum\" : trial.suggest_float(\"momentum\", 0.5, 0.99),\n",
        "        \"weight_decay\" : trial.suggest_float(\"weight_decay\", 1e-6, 1e-3, log=True) if use_weight_decay else 0.0\n",
        "    }\n",
        "\n",
        "    # Create a new nested mlflow run for each trial\n",
        "    with mlflow.start_run(nested=True):\n",
        "\n",
        "      model_instance = model_class(out_size=1, pretrained=params[\"pretrained\"])\n",
        "\n",
        "      train_dataloader, valid_dataloader, _ = get_dataloaders(\n",
        "          batch_size=params[\"batch_size\"],\n",
        "          validation=validation,\n",
        "          train_subset=train_subset,\n",
        "          uncertainty=uncertainty,\n",
        "          verbose=False\n",
        "      )\n",
        "      train_metrics = log_train(model_instance, params, train_dataloader, valid_dataloader)\n",
        "\n",
        "      # Choose the final validation loss (or training loss if validation is not provided)\n",
        "      if valid_dataloader is not None and len(train_metrics[\"val_losses\"]) > 0:\n",
        "          val_loss = train_metrics[\"val_losses\"][-1]\n",
        "      else:\n",
        "          val_loss = train_metrics[\"train_losses\"][-1]\n",
        "\n",
        "      mlflow.log_metric(\"val_loss\", val_loss)\n",
        "\n",
        "    return val_loss\n",
        "\n",
        "  # Create and run the optuna study minimizing the validation loss\n",
        "  with mlflow.start_run(experiment_id=experiment_id):\n",
        "    mlflow.log_params({\"uncertainty\": uncertainty})\n",
        "    study = optuna.create_study(\n",
        "      study_name = experiment_name,\n",
        "      direction = \"minimize\",\n",
        "      storage = f\"sqlite:///{os.path.join(CHEXPERT_PATH, 'optuna')}/{experiment_name}.db\",\n",
        "      load_if_exists = True\n",
        "      )\n",
        "    study.optimize(objective, n_trials=n_trials)\n",
        "\n",
        "  # After optimization, log the best model in the study\n",
        "  if log_n_best>0:\n",
        "    log_n_best_trials(n=log_n_best, study=study)\n",
        "  return study\n",
        "\n",
        "def log_n_best_trials(n, model_class, uncertainty, study=None):\n",
        "  if study is None:\n",
        "    experiment_name = f\"{model_class.__name__}_{uncertainty}_hp_tuning\"\n",
        "    study = optuna.create_study(\n",
        "        study_name = experiment_name,\n",
        "        direction = \"minimize\",\n",
        "        storage = f\"sqlite:///{os.path.join(CHEXPERT_PATH, 'optuna')}/{experiment_name}.db\",\n",
        "        load_if_exists = True\n",
        "        )\n",
        "\n",
        "  # Get the trials with less validation error\n",
        "  best_trials = sorted([t for t in study.trials if t.value is not None], key=lambda t: t.value)[:n]\n",
        "\n",
        "  # For each of the best trials, retrain on the full training set and log with train_test_log_model.\n",
        "  for trial in best_trials:\n",
        "      best_params = trial.params\n",
        "      model_instance = model_class(out_size=1, pretrained=True)\n",
        "      print(f\"Retraining model with parameters: {best_params} and val_loss: {trial.value}\")\n",
        "      train_test_log_model(model_instance, params=best_params, uncertainty=uncertainty, validation=0, train_subset=1)"
      ],
      "metadata": {
        "id": "OV9vp_U5DMgK"
      },
      "execution_count": null,
      "outputs": []
    },
    {
      "cell_type": "markdown",
      "source": [
        "# Explanations"
      ],
      "metadata": {
        "id": "CyrBkCwK-Q60"
      }
    },
    {
      "cell_type": "markdown",
      "source": [
        "## Model selection"
      ],
      "metadata": {
        "id": "MH5hfIxewzNO"
      }
    },
    {
      "cell_type": "markdown",
      "source": [
        "To view all the trained models and the experiments made go to the [experiment repository](https://dagshub.com/alexocayanez/xAI-CheXpert-radiology.mlflow). The experiment \"train_and_test\" refers to the models trained in the full training set. Select one of the runs and go to the artifacts section, where you can copy the model uri."
      ],
      "metadata": {
        "id": "SsHL-XSzIN3Z"
      }
    },
    {
      "cell_type": "code",
      "source": [
        "set_dagshub_mlflow()\n",
        "def load_model(model_name, model_version):\n",
        "  model_uri = f\"models:/{model_name}/{model_version}\"\n",
        "  selected_model = mlflow.pytorch.load_model(model_uri, map_location=torch.device('cuda:0' if torch.cuda.is_available() else 'cpu'))\n",
        "  return selected_model.model\n",
        "\n",
        "model = load_model(model_name=\"u-ignore_DenseNet121\", model_version=3)"
      ],
      "metadata": {
        "id": "8yN5h156wx9l",
        "colab": {
          "base_uri": "https://localhost:8080/",
          "height": 98,
          "referenced_widgets": [
            "40408bed33a54485907e780c701bcde4",
            "4473e6f9ab084d8392166ad97e7ce2ba",
            "17215accb2d047d18a91b31dab0e1e0d",
            "78fce56377514ece9fd57320e311c81b",
            "a77bb04917314b7ab76a562ffcad6307",
            "19ca67265ead48239a84eecc59d80ebe",
            "b98b452ed4944f279dcd8ba6e398860c",
            "2f4f98d740ff48a49ce2146dddc7d039",
            "b0eff5068a1f47f18bd88a0b02302732",
            "4a5a1370fb2445999a746847c82d761b",
            "b4672dac0473485fa888b0ebe1a3ea2b"
          ]
        },
        "outputId": "10082fdd-2246-4e00-9ff6-91d3ee6cbf35"
      },
      "execution_count": null,
      "outputs": [
        {
          "output_type": "display_data",
          "data": {
            "text/plain": [
              "Initialized MLflow to track repo \u001b[32m\"alexocayanez/xAI-CheXpert-radiology\"\u001b[0m\n"
            ],
            "text/html": [
              "<pre style=\"white-space:pre;overflow-x:auto;line-height:normal;font-family:Menlo,'DejaVu Sans Mono',consolas,'Courier New',monospace\">Initialized MLflow to track repo <span style=\"color: #008000; text-decoration-color: #008000\">\"alexocayanez/xAI-CheXpert-radiology\"</span>\n",
              "</pre>\n"
            ]
          },
          "metadata": {}
        },
        {
          "output_type": "display_data",
          "data": {
            "text/plain": [
              "Repository alexocayanez/xAI-CheXpert-radiology initialized!\n"
            ],
            "text/html": [
              "<pre style=\"white-space:pre;overflow-x:auto;line-height:normal;font-family:Menlo,'DejaVu Sans Mono',consolas,'Courier New',monospace\">Repository alexocayanez/xAI-CheXpert-radiology initialized!\n",
              "</pre>\n"
            ]
          },
          "metadata": {}
        },
        {
          "output_type": "display_data",
          "data": {
            "text/plain": [
              "Downloading artifacts:   0%|          | 0/6 [00:00<?, ?it/s]"
            ],
            "application/vnd.jupyter.widget-view+json": {
              "version_major": 2,
              "version_minor": 0,
              "model_id": "40408bed33a54485907e780c701bcde4"
            }
          },
          "metadata": {}
        },
        {
          "output_type": "stream",
          "name": "stderr",
          "text": [
            "2025/03/04 21:40:27 WARNING mlflow.pytorch: Stored model version '2.6.0+cu124' does not match installed PyTorch version '2.5.1+cu124'\n"
          ]
        }
      ]
    },
    {
      "cell_type": "markdown",
      "source": [
        "## Example-based\n"
      ],
      "metadata": {
        "id": "18Q6DPZGoMhU"
      }
    },
    {
      "cell_type": "code",
      "source": [
        "train_ranking_folder = 'ranking annotations/train'\n",
        "train_ranking_path = os.path.join(CHEXPERT_PATH, train_ranking_folder)\n",
        "train_ranking_dataset = CheXpertDataset(root_dir=train_ranking_path, stage='pred')\n",
        "\n",
        "test_ranking_folder = 'ranking annotations/test'\n",
        "test_ranking_path = os.path.join(CHEXPERT_PATH, test_ranking_folder)\n",
        "test_ranking_dataset = CheXpertDataset(root_dir=test_ranking_path, stage='pred')"
      ],
      "metadata": {
        "id": "IlKtGyPvQygC"
      },
      "execution_count": null,
      "outputs": []
    },
    {
      "cell_type": "code",
      "source": [
        "# returning last latent instead of prediction\n",
        "latent_model = nn.Sequential(*list(list(model.children())[0].children())[:-1])\n"
      ],
      "metadata": {
        "id": "1ytQSfUBb0fx"
      },
      "execution_count": null,
      "outputs": []
    },
    {
      "cell_type": "code",
      "source": [
        "# extracting latents\n",
        "\n",
        "eb_train_data = list()\n",
        "\n",
        "for img, rank in train_ranking_dataset:\n",
        "  latent = latent_model(img.unsqueeze(0).to(device))\n",
        "  eb_train_data.append((latent.flatten().detach(), img, rank))\n",
        "\n",
        "eb_test_data = list()\n",
        "\n",
        "for img, _ in test_ranking_dataset:\n",
        "  latent = latent_model(img.unsqueeze(0).to(device))\n",
        "  eb_test_data.append((latent.flatten().detach(), img, rank))\n"
      ],
      "metadata": {
        "id": "5H4tZpuTcNlv"
      },
      "execution_count": null,
      "outputs": []
    },
    {
      "cell_type": "code",
      "source": [
        "def compare_latents(latent1, latent2, metric=\"cosine\"):\n",
        "    if metric == \"euclidean\":\n",
        "        return torch.norm(latent1 - latent2, p=2).item()\n",
        "    elif metric == \"manhattan\":\n",
        "        return torch.norm(latent1 - latent2, p=1).item()\n",
        "    elif metric == \"cosine\":\n",
        "        return F.cosine_similarity(latent1.unsqueeze(0), latent2.unsqueeze(0)).item()\n"
      ],
      "metadata": {
        "id": "UbTE4cBqeMaI"
      },
      "execution_count": null,
      "outputs": []
    },
    {
      "cell_type": "code",
      "source": [
        "for i, example in enumerate(eb_train_data):\n",
        "  cosine_sim = compare_latents(eb_test_data[0][0], example[0], metric=\"cosine\")\n",
        "  eb_train_data[i] = (*example, cosine_sim)\n",
        "\n",
        "eb_train_data = sorted(eb_train_data, key=lambda x: x[3], reverse=True)\n"
      ],
      "metadata": {
        "id": "NKv5jU_Mio3V"
      },
      "execution_count": null,
      "outputs": []
    },
    {
      "cell_type": "code",
      "source": [
        "def plot_ranking_images(ranking_data, n_rows=2, n_cols=5):\n",
        "    fig, axes = plt.subplots(n_rows, n_cols, figsize=(n_cols * 2, n_rows * 2))\n",
        "    axes = axes.flatten()\n",
        "\n",
        "    for i, ax in enumerate(axes):\n",
        "        if i < len(ranking_data):\n",
        "            img = ranking_data[i][1][0].cpu().numpy()\n",
        "            rank = ranking_data[i][2].cpu().float()\n",
        "            if img.ndim == 2:\n",
        "                ax.imshow(img, cmap=\"gray\")\n",
        "            else:\n",
        "                ax.imshow(img)\n",
        "            ax.set_title(f\"Rank: {rank}\" + \" | \" + f\"{round(ranking_data[i][3], 2)}\")\n",
        "            ax.axis(\"off\")\n",
        "        else:\n",
        "            ax.axis(\"off\")\n",
        "\n",
        "    plt.tight_layout()\n",
        "    plt.show()\n"
      ],
      "metadata": {
        "id": "J1t_7Z85kuI-"
      },
      "execution_count": null,
      "outputs": []
    },
    {
      "cell_type": "code",
      "source": [
        "plot_ranking_images(eb_train_data)"
      ],
      "metadata": {
        "id": "4a7_SyVYlnEE",
        "colab": {
          "base_uri": "https://localhost:8080/",
          "height": 410
        },
        "outputId": "17001e0d-6c4f-4a28-efc8-a555f5a2c596"
      },
      "execution_count": null,
      "outputs": [
        {
          "output_type": "display_data",
          "data": {
            "text/plain": [
              "<Figure size 1000x400 with 10 Axes>"
            ],
            "image/png": "[encoded data removed]"
          },
          "metadata": {}
        }
      ]
    },
    {
      "cell_type": "markdown",
      "source": [
        "## Saliency Map\n"
      ],
      "metadata": {
        "id": "-3ADrvT0hvTy"
      }
    },
    {
      "cell_type": "code",
      "source": [
        "!pip install captum zennit --quiet\n",
        "import captum\n",
        "import zennit"
      ],
      "metadata": {
        "id": "-0SoMPRpk3lg"
      },
      "execution_count": null,
      "outputs": []
    },
    {
      "cell_type": "code",
      "source": [
        "def get_attribution(tensor, model, explanation=\"lrp\", gradcam_conv_layer=None, nr_att_channels=3, device=\"cpu\",):\n",
        "  tensor = tensor.to(torch.device(device)).unsqueeze(0)\n",
        "\n",
        "  if explanation == \"lrp\":\n",
        "    lrp = captum.attr.LRP(model)\n",
        "    attribution = lrp.attribute(tensor, target=0)\n",
        "  elif explanation == \"gradcam\":\n",
        "    assert gradcam_conv_layer is not None\n",
        "    gradcam = captum.attr.GuidedGradCam(model, layer=gradcam_conv_layer)\n",
        "    attribution = gradcam.attribute(tensor, target=0)\n",
        "  else:\n",
        "    raise ValueError(\"Select a vaild explanation method.\")\n",
        "\n",
        "  if attribution.shape[1] > nr_att_channels:\n",
        "    attribution = attribution.mean(dim=1, keepdim=True)\n",
        "\n",
        "  return attribution\n",
        "\n",
        "\n",
        "def get_a_batch(model, inputs, targets, explanation=\"lrp\", gradcam_conv_layer=None, nr_att_channels=3, detach=False, device=\"cpu\"):\n",
        "  model = model.to(torch.device(device))\n",
        "  model.eval()\n",
        "  for param in model.parameters():\n",
        "    if not param.is_leaf:\n",
        "      print(f\"param {param} is not leaf\")\n",
        "  for name, buffer in model.named_buffers():\n",
        "    if not buffer.is_leaf:\n",
        "      print(f\"Buffer {name} is not a leaf!\")\n",
        "  for attr_name in dir(model):\n",
        "    attr_value = getattr(model, attr_name, None)\n",
        "    if isinstance(attr_value, torch.Tensor) and not attr_value.is_leaf:\n",
        "        print(f\"Non-leaf tensor in model attribute: {attr_name}\")\n",
        "\n",
        "  assert inputs.shape[0] == targets.shape[0]\n",
        "\n",
        "  a_batch = []\n",
        "  for i in range(inputs.shape[0]):\n",
        "    a_batch.append(get_attribution(\n",
        "        tensor = torch.from_numpy(inputs[i]),\n",
        "        model = model,\n",
        "        explanation = explanation,\n",
        "        gradcam_conv_layer = gradcam_conv_layer,\n",
        "        nr_att_channels = nr_att_channels,\n",
        "        device = device\n",
        "        ).squeeze().detach().cpu().numpy()\n",
        "    )\n",
        "  return np.stack(a_batch)\n",
        "\n",
        "\n",
        "def get_saliency_map_test_data(model, explanation, gradcam_conv_layer=None, images_indices = [1, 2, 3, 5]):\n",
        "  x_batch = []\n",
        "  y_batch = []\n",
        "  a_batch = []\n",
        "\n",
        "  x_batch.append(test_ranking_dataset[0][0].detach().cpu().numpy())\n",
        "  y_batch.append(test_ranking_dataset[0][1].detach().cpu().numpy())\n",
        "\n",
        "  for i in images_indices:\n",
        "    idx = train_ranking_dataset.file_names.index(f\"Rad_{i}.png\")\n",
        "    img = train_ranking_dataset[idx][0]\n",
        "    x_batch.append(img.detach().cpu().numpy())\n",
        "    y_batch.append(train_ranking_dataset[idx][1].detach().cpu().numpy())\n",
        "\n",
        "  x_batch, y_batch = np.stack(x_batch), np.stack(y_batch)\n",
        "  a_batch = get_a_batch(model, x_batch, y_batch, explanation, gradcam_conv_layer, device='cuda:0' if torch.cuda.is_available() else 'cpu')\n",
        "\n",
        "  return x_batch, y_batch, a_batch\n",
        "\n",
        "x_batch, y_batch, a_batch = get_saliency_map_test_data(model=model, explanation=\"lrp\")\n",
        "print(x_batch.shape)\n",
        "print(y_batch.shape)\n",
        "print(a_batch.shape)"
      ],
      "metadata": {
        "colab": {
          "base_uri": "https://localhost:8080/"
        },
        "id": "uh2nWqBh-IZN",
        "outputId": "686635fb-9bec-45d1-f9fd-5860c9712455"
      },
      "execution_count": null,
      "outputs": [
        {
          "output_type": "stream",
          "name": "stderr",
          "text": [
            "/usr/local/lib/python3.11/dist-packages/captum/_utils/gradient.py:57: UserWarning: Input Tensor 0 did not already require gradients, required_grads has been set automatically.\n",
            "  warnings.warn(\n"
          ]
        },
        {
          "output_type": "stream",
          "name": "stdout",
          "text": [
            "(5, 3, 224, 224)\n",
            "(5, 1)\n",
            "(5, 3, 224, 224)\n"
          ]
        }
      ]
    },
    {
      "cell_type": "code",
      "source": [
        "bboxes_path = CHEXPERT_PATH + \"/bounding-box annotations/bb-annotations.xlsx\"\n",
        "df = pd.read_excel(bboxes_path)\n",
        "df.columns = df.columns.str.strip()\n",
        "image_masks = {}\n",
        "\n",
        "# Function to convert multiple bounding-boxes into a single binary mask\n",
        "def bbox_to_mask(bboxes, img_size):\n",
        "    mask = np.zeros(img_size, dtype=np.uint8)\n",
        "    for (x_min, y_min, x_max, y_max) in bboxes:\n",
        "        if not np.isnan([x_min, y_min, x_max, y_max]).any():  # Ignore NaN values\n",
        "            mask[int(y_min):int(y_max), int(x_min):int(x_max)] = 1  # Fill bounding box area\n",
        "    return mask\n",
        "\n",
        "# Process bounding boxes for each image\n",
        "for _, row in df.iterrows():\n",
        "    image_id = row[\"Image\"]\n",
        "    # Collect all bounding boxes for this image\n",
        "    bboxes = [(row[\"x_start\"], row[\"y_start\"], row[\"x_end\"], row[\"y_end\"])]\n",
        "    # Check if there is a second bounding box and add it\n",
        "    if not pd.isna(row.get(\"x_start.1\")):\n",
        "        bboxes.append((row[\"x_start.1\"], row[\"y_start .1\"], row[\"x_end .1\"], row[\"y_end.1\"]))\n",
        "    # Generate and store mask\n",
        "    image_masks[image_id] = bbox_to_mask(bboxes, (224,224))\n",
        "\n",
        "masks = torch.tensor(np.array(list(image_masks.values())), dtype=torch.float32)\n",
        "s_batch = masks.cpu().numpy()\n",
        "s_batch = s_batch[:, np.newaxis, :, :]\n"
      ],
      "metadata": {
        "id": "gKBTmQp0ZyQe"
      },
      "execution_count": null,
      "outputs": []
    },
    {
      "cell_type": "markdown",
      "source": [
        "### GradCAM"
      ],
      "metadata": {
        "id": "4ZzRS9-AvHKv"
      }
    },
    {
      "cell_type": "code",
      "source": [
        "import torchvision.transforms as transforms"
      ],
      "metadata": {
        "id": "5dSEYfl9ABR_"
      },
      "execution_count": null,
      "outputs": []
    },
    {
      "cell_type": "code",
      "source": [
        "if model.__class__.__name__ == \"ResNet\":\n",
        "  last_conv_layer = model.layer4\n",
        "elif model.__class__.__name__ == \"DenseNet\":\n",
        "  last_conv_layer = model.features[-1]"
      ],
      "metadata": {
        "id": "unLL0ioQ_SLS"
      },
      "execution_count": null,
      "outputs": []
    },
    {
      "cell_type": "code",
      "source": [
        "class GradCAM:\n",
        "    def __init__(self, model, target_layer):\n",
        "        self.model = model\n",
        "        self.target_layer = target_layer\n",
        "        self.gradients = None\n",
        "        self.activations = None\n",
        "\n",
        "        # Hooks to capture gradients and feature maps\n",
        "        self.target_layer.register_forward_hook(self.forward_hook)\n",
        "        self.target_layer.register_backward_hook(self.backward_hook)\n",
        "\n",
        "    def forward_hook(self, module, input, output):\n",
        "        self.activations = output\n",
        "\n",
        "    def backward_hook(self, module, grad_input, grad_output):\n",
        "        self.gradients = grad_output[0]\n",
        "\n",
        "    def generate_cam(self, input_tensor, target_class=None):\n",
        "        output = self.model(input_tensor)\n",
        "\n",
        "        # If no specific class is given, use the highest predicted class\n",
        "        if target_class is None:\n",
        "            target_class = output.argmax().item()\n",
        "\n",
        "        self.model.zero_grad()\n",
        "        output[0, target_class].backward()\n",
        "\n",
        "        # Compute importance weights\n",
        "        weights = torch.mean(self.gradients, dim=[2, 3], keepdim=True)\n",
        "\n",
        "        # Generate Grad-CAM heatmap\n",
        "        cam = torch.sum(weights * self.activations, dim=1).squeeze()\n",
        "        cam = torch.relu(cam)  # Apply ReLU\n",
        "\n",
        "        # Normalize CAM\n",
        "        cam = cam - cam.min()\n",
        "        cam = cam / cam.max()\n",
        "        return cam.detach().cpu().numpy()"
      ],
      "metadata": {
        "id": "YR7H4HX8_2vQ"
      },
      "execution_count": null,
      "outputs": []
    },
    {
      "cell_type": "code",
      "source": [
        "def preprocess_image(image_path):\n",
        "    transform = transforms.Compose([\n",
        "        transforms.Resize((224, 224)),\n",
        "        transforms.ToTensor(),\n",
        "        transforms.Normalize(mean=[0.485, 0.456, 0.406], std=[0.229, 0.224, 0.225])\n",
        "    ])\n",
        "    image = Image.open(image_path).convert(\"RGB\")\n",
        "    input_tensor = transform(image).unsqueeze(0)  # Add batch dimension\n",
        "    return image, input_tensor"
      ],
      "metadata": {
        "id": "Nt_u4-GjAlCm"
      },
      "execution_count": null,
      "outputs": []
    },
    {
      "cell_type": "code",
      "source": [
        "def overlay_heatmap(image, cam):\n",
        "    cam = cv2.resize(cam, (image.size[0], image.size[1]))  # Resize CAM to match image\n",
        "    heatmap = cv2.applyColorMap(np.uint8(255 * cam), cv2.COLORMAP_JET)  # Apply colormap\n",
        "    heatmap = cv2.cvtColor(heatmap, cv2.COLOR_BGR2RGB)  # Convert BGR to RGB\n",
        "\n",
        "    # Overlay heatmap on original image\n",
        "    superimposed_img = np.float32(heatmap) * 0.4 + np.float32(image)\n",
        "    superimposed_img = np.uint8(255 * superimposed_img / np.max(superimposed_img))\n",
        "\n",
        "    return superimposed_img, heatmap"
      ],
      "metadata": {
        "id": "H_dgdrkv_4hj"
      },
      "execution_count": null,
      "outputs": []
    },
    {
      "cell_type": "code",
      "source": [
        "image_path = CHEXPERT_PATH + \"/ranking annotations/test/test_image.png\"\n",
        "image, input_tensor = preprocess_image(image_path)\n",
        "\n",
        "# Initialize Grad-CAM\n",
        "grad_cam = GradCAM(model, last_conv_layer)\n",
        "\n",
        "# Get Grad-CAM heatmap for Pleural Effusion class (index 9 in ChestX-ray14)\n",
        "pleural_effusion_class_idx = 9  # Adjust based on dataset\n",
        "cam = grad_cam.generate_cam(input_tensor)#, target_class=pleural_effusion_class_idx)\n",
        "\n",
        "# Overlay heatmap\n",
        "superimposed_image, heatmap = overlay_heatmap(image, cam)\n",
        "\n",
        "# Show result\n",
        "plt.figure(figsize=(8,8))\n",
        "plt.imshow(heatmap)\n",
        "plt.axis(\"off\")\n",
        "plt.show()"
      ],
      "metadata": {
        "id": "R3txZW4XAsK_",
        "colab": {
          "base_uri": "https://localhost:8080/",
          "height": 708
        },
        "outputId": "c4102298-b344-4918-b93a-87b0c5c3c85e"
      },
      "execution_count": null,
      "outputs": [
        {
          "output_type": "stream",
          "name": "stderr",
          "text": [
            "/usr/local/lib/python3.11/dist-packages/torch/nn/modules/module.py:1827: FutureWarning: Using a non-full backward hook when the forward contains multiple autograd Nodes is deprecated and will be removed in future versions. This hook will be missing some grad_input. Please use register_full_backward_hook to get the documented behavior.\n",
            "  self._maybe_warn_non_full_backward_hook(args, result, grad_fn)\n"
          ]
        },
        {
          "output_type": "display_data",
          "data": {
            "text/plain": [
              "<Figure size 800x800 with 1 Axes>"
            ],
            "image/png": "[encoded data removed]"
          },
          "metadata": {}
        }
      ]
    },
    {
      "cell_type": "markdown",
      "source": [
        "I modified the GradCAM class to take into account the output shape of our models, which is just one number.\n",
        "\n",
        "Also, I retrieved the example from the dataset, which includes the preprocessing.\n",
        "\n",
        "Feel free to modify or delete the code as you need."
      ],
      "metadata": {
        "id": "6So-cX1tge6o"
      }
    },
    {
      "cell_type": "markdown",
      "source": [
        "### Lawer-wise relevance propagation"
      ],
      "metadata": {
        "id": "tmbKvEyGu_zX"
      }
    },
    {
      "cell_type": "code",
      "source": [
        "def tensor_to_2d(tensor):\n",
        "    tensor = tensor.squeeze().detach().cpu().numpy()\n",
        "    if tensor.ndim == 3 and tensor.shape[0] == 3:\n",
        "      tensor = np.mean(tensor, axis=0)  # Convert to grayscale by averaging channels\n",
        "    elif tensor.ndim == 3 and tensor.shape[0] == 1:\n",
        "      tensor = tensor[0]  # Take the single channel\n",
        "    return tensor\n",
        "\n",
        "def visualize_lrp(input_tensor, relevance):\n",
        "    input_image = tensor_to_2d(input_tensor)\n",
        "    relevance_map = tensor_to_2d(relevance)\n",
        "\n",
        "    # Normalize relevance map for better visualization\n",
        "    relevance_map = (relevance_map - np.min(relevance_map)) / (np.max(relevance_map) - np.min(relevance_map) + 1e-6)\n",
        "\n",
        "    # Create figure\n",
        "    fig, ax = plt.subplots(1, 2, figsize=(12, 5))\n",
        "\n",
        "    # Original Input Image\n",
        "    ax[0].imshow(input_image, cmap='gray')\n",
        "    ax[0].set_title(\"Original Input Image\")\n",
        "    ax[0].axis(\"off\")\n",
        "\n",
        "    # Heatmap of Relevance\n",
        "    sns.heatmap(relevance_map, cmap=\"jet\", alpha=0.7, ax=ax[1])\n",
        "    ax[1].set_title(\"LRP Relevance Map\")\n",
        "    ax[1].axis(\"off\")\n",
        "\n",
        "    plt.tight_layout()\n",
        "    plt.show()\n",
        "\n",
        "def overlay_lrp_on_image(input_tensor, relevance, label, alpha=0.5):\n",
        "    input_image = tensor_to_2d(input_tensor)\n",
        "    relevance_map = tensor_to_2d(relevance)\n",
        "    label_name = \"Positive\" if label[0] == 1 else \"Negative\"\n",
        "\n",
        "    # Normalize relevance map\n",
        "    relevance_map = (relevance_map - np.min(relevance_map)) / (np.max(relevance_map) - np.min(relevance_map) + 1e-6)\n",
        "\n",
        "    # Plot\n",
        "    plt.figure(figsize=(6,6))\n",
        "    plt.imshow(input_image, cmap=\"gray\")  # Original image\n",
        "    plt.imshow(relevance_map, cmap=\"jet\", alpha=alpha)  # Overlay heatmap\n",
        "    plt.colorbar(label=\"Relevance Score\")\n",
        "    plt.title(f\"LRP {label_name} ({label[0]}) pleural effusion\")\n",
        "    plt.axis(\"off\")\n",
        "    plt.show()"
      ],
      "metadata": {
        "id": "Xr1kYd6xvQgP"
      },
      "execution_count": null,
      "outputs": []
    },
    {
      "cell_type": "markdown",
      "source": [
        "# Evaluations"
      ],
      "metadata": {
        "id": "VqOWixVcwfMj"
      }
    },
    {
      "cell_type": "markdown",
      "source": [
        "## Quantus on Saliency Map"
      ],
      "metadata": {
        "id": "6H_M1W5ywj5l"
      }
    },
    {
      "cell_type": "code",
      "source": [
        "!pip install --upgrade quantus --quiet\n",
        "import quantus"
      ],
      "metadata": {
        "id": "pYsdvXsNwqft"
      },
      "execution_count": null,
      "outputs": []
    },
    {
      "cell_type": "code",
      "source": [
        "quantus.helpers.constants.available_metrics()"
      ],
      "metadata": {
        "id": "5kGvsnfgzAlw"
      },
      "execution_count": null,
      "outputs": []
    },
    {
      "cell_type": "code",
      "source": [
        "metrics = {\n",
        "    \"Faithfulness\": quantus.PixelFlipping(\n",
        "        features_in_step=224,\n",
        "        perturb_baseline=\"black\",\n",
        "        perturb_func=quantus.perturb_func.baseline_replacement_by_indices,\n",
        "        ),\n",
        "    \"Robustness\": quantus.LocalLipschitzEstimate(\n",
        "        nr_samples=5,\n",
        "        perturb_std=0.2,\n",
        "        perturb_mean=0.0,\n",
        "        norm_numerator=quantus.similarity_func.distance_euclidean,\n",
        "        norm_denominator=quantus.similarity_func.distance_euclidean,\n",
        "        perturb_func=quantus.perturb_func.gaussian_noise,\n",
        "        similarity_func=quantus.similarity_func.lipschitz_constant,\n",
        "        ),\n",
        "    \"Randomisation\": quantus.MPRT(\n",
        "        layer_order=\"bottom_up\",\n",
        "        similarity_func=quantus.similarity_func.correlation_spearman,\n",
        "        ),\n",
        "    \"Localisation\": quantus.RelevanceMassAccuracy(),\n",
        "    \"Complexity\": quantus.Complexity()\n",
        "}"
      ],
      "metadata": {
        "id": "2U2p0vFewwam"
      },
      "execution_count": null,
      "outputs": []
    },
    {
      "cell_type": "code",
      "source": [
        "pf_scores = metrics[\"Faithfulness\"](\n",
        "    model=model,\n",
        "    x_batch=x_batch,\n",
        "    y_batch=y_batch,\n",
        "    a_batch=None,\n",
        "    explain_func=get_a_batch,\n",
        "    explain_func_kwargs={\"explanation\": \"lrp\", \"gradcam_conv_layer\": None},\n",
        "    device='cuda:0' if torch.cuda.is_available() else 'cpu',\n",
        "    )\n",
        "print(pf_scores)"
      ],
      "metadata": {
        "id": "1u6-Sgwl8ZpN"
      },
      "execution_count": null,
      "outputs": []
    },
    {
      "cell_type": "code",
      "source": [
        "metrics[\"Faithfulness\"].plot(y_batch=y_batch, scores=pf_scores)"
      ],
      "metadata": {
        "id": "JljazdhZg0ag"
      },
      "execution_count": null,
      "outputs": []
    },
    {
      "cell_type": "code",
      "source": [
        "lle_scores = metrics[\"Robustness\"](\n",
        "    model=model,\n",
        "    x_batch=x_batch,\n",
        "    y_batch=y_batch,\n",
        "    a_batch=None,\n",
        "    explain_func=get_a_batch,\n",
        "    explain_func_kwargs={\"explanation\": \"lrp\", \"gradcam_conv_layer\": None},\n",
        "    device='cuda:0' if torch.cuda.is_available() else 'cpu',\n",
        "    )\n",
        "print(lle_scores)"
      ],
      "metadata": {
        "id": "8JcpRVXW8rHc"
      },
      "execution_count": null,
      "outputs": []
    },
    {
      "cell_type": "code",
      "source": [
        "mprt_scores = metrics[\"Randomisation\"](\n",
        "    model=model,\n",
        "    x_batch=x_batch,\n",
        "    y_batch=y_batch,\n",
        "    a_batch=None,\n",
        "    explain_func=get_a_batch,\n",
        "    explain_func_kwargs={\"explanation\": \"lrp\", \"gradcam_conv_layer\": None, \"nr_att_channels\":1},\n",
        "    device='cuda:0' if torch.cuda.is_available() else 'cpu',\n",
        "\n",
        "    )\n",
        "quantus.helpers.plotting.plot_model_parameter_randomisation_experiment(results=mprt_scores)"
      ],
      "metadata": {
        "id": "zDLkaDzUHPEH"
      },
      "execution_count": null,
      "outputs": []
    },
    {
      "cell_type": "code",
      "source": [
        "rma_scores = metrics[\"Localisation\"](\n",
        "    model=model,\n",
        "    x_batch=x_batch,\n",
        "    y_batch=y_batch,\n",
        "    a_batch=None,\n",
        "    s_batch=s_batch,\n",
        "    explain_func=get_a_batch,\n",
        "    explain_func_kwargs={\"explanation\": \"gradcam\", \"gradcam_conv_layer\": last_conv_layer, \"nr_att_channels\":1}\n",
        "    )\n",
        "print(rma_scores)"
      ],
      "metadata": {
        "id": "3Alc2tINHUiM"
      },
      "execution_count": null,
      "outputs": []
    },
    {
      "cell_type": "code",
      "source": [
        "complexity_scores = metrics[\"Complexity\"](\n",
        "    model=model,\n",
        "    x_batch=x_batch,\n",
        "    y_batch=y_batch,\n",
        "    a_batch=None,\n",
        "    explain_func=get_a_batch,\n",
        "    explain_func_kwargs={\"explanation\": \"lrp\", \"gradcam_conv_layer\": None, \"nr_att_channels\":1},\n",
        "    device='cuda:0' if torch.cuda.is_available() else 'cpu',\n",
        "    )\n",
        "print(complexity_scores)"
      ],
      "metadata": {
        "id": "svBufYjyHhT-"
      },
      "execution_count": null,
      "outputs": []
    },
    {
      "cell_type": "code",
      "source": [
        "def evaluate_explanations(input_tensor, target_class):\n",
        "    # Generate Grad-CAM saliency map\n",
        "    grad_cam = GradCAM(model, last_conv_layer)\n",
        "    cam = grad_cam.generate_cam(input_tensor, target_class)\n",
        "\n",
        "    # Convert CAM to match Quantus input format\n",
        "    cam_tensor = torch.tensor(cam).unsqueeze(1)  # Add batch dimension\n",
        "\n",
        "    # Dictionary to store results\n",
        "    results = {}\n",
        "\n",
        "    # Compute each metric\n",
        "    for name, metric in metrics.items():\n",
        "        score = metric(\n",
        "            model=model,\n",
        "            x_batch=input_tensor,\n",
        "            y_batch=torch.tensor([target_class]),  # Target class\n",
        "            a_batch=cam_tensor,\n",
        "            device=\"cuda\" if torch.cuda.is_available() else \"cpu\"\n",
        "        )\n",
        "        results[name] = score\n",
        "\n",
        "    # Print results\n",
        "    for key, value in results.items():\n",
        "        print(f\"{key} Score: {value}\")\n",
        "\n",
        "    return results"
      ],
      "metadata": {
        "id": "bQ_nTxp3yGdu"
      },
      "execution_count": null,
      "outputs": []
    },
    {
      "cell_type": "code",
      "source": [
        "evaluate_explanations(input_tensor, target_class=0)"
      ],
      "metadata": {
        "id": "diDvwCIGymeY"
      },
      "execution_count": null,
      "outputs": []
    },
    {
      "cell_type": "markdown",
      "source": [
        "## Example-based nDCG"
      ],
      "metadata": {
        "id": "etZUDLeQy-hD"
      }
    },
    {
      "cell_type": "code",
      "source": [
        "def dcg(relevance_scores):\n",
        "    return sum(rel / np.log2(idx + 2) for idx, rel in enumerate(relevance_scores))\n",
        "\n",
        "def ndcg(train_data):\n",
        "    sorted_by_similarity = sorted(train_data, key=lambda x: x[3], reverse=True)\n",
        "\n",
        "    relevance_values = np.linspace(1, 5.5, 10)\n",
        "    real_ranks = sorted(train_data, key=lambda x: x[2])\n",
        "    relevance_mapping = {real_ranks[i][2]: relevance_values[-(i+1)] for i in range(10)}\n",
        "\n",
        "    # Compute DCG for predictions\n",
        "    predicted_relevance = [relevance_mapping[item[2]] for item in sorted_by_similarity]\n",
        "    dcg_value = dcg(predicted_relevance)\n",
        "\n",
        "    # Compute IDCG for ideal\n",
        "    ideal_relevance = sorted(relevance_mapping.values(), reverse=True)\n",
        "    idcg_value = dcg(ideal_relevance)\n",
        "\n",
        "    return dcg_value / idcg_value if idcg_value > 0 else 0\n"
      ],
      "metadata": {
        "id": "RvCAjNyJzCZd"
      },
      "execution_count": null,
      "outputs": []
    },
    {
      "cell_type": "code",
      "source": [
        "ndcg(eb_train_data)\n"
      ],
      "metadata": {
        "id": "8EAgjxDczprh"
      },
      "execution_count": null,
      "outputs": []
    },
    {
      "cell_type": "markdown",
      "source": [
        "nDCG takes value from 0 (reversed ranking) to 1 (perfect ranking)\n",
        "\n",
        "In our case it is 0.88 which is strong ranking quality with the mistakes that can be seen on the plot below.\n"
      ],
      "metadata": {
        "id": "ORWBdnQJz_CB"
      }
    },
    {
      "cell_type": "code",
      "source": [
        "plot_ranking_images(eb_train_data)\n"
      ],
      "metadata": {
        "id": "PDFIVjVS0_KB"
      },
      "execution_count": null,
      "outputs": []
    }
  ]
}